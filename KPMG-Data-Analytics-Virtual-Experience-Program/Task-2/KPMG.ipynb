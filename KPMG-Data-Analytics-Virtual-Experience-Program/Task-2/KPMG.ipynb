{
  "nbformat": 4,
  "nbformat_minor": 0,
  "metadata": {
    "colab": {
      "name": "KPMG.ipynb",
      "provenance": [],
      "collapsed_sections": [],
      "authorship_tag": "ABX9TyPtIK4f1cE4Xbc9phqueyZE",
      "include_colab_link": true
    },
    "kernelspec": {
      "display_name": "Python 3",
      "name": "python3"
    }
  },
  "cells": [
    {
      "cell_type": "markdown",
      "metadata": {
        "id": "view-in-github",
        "colab_type": "text"
      },
      "source": [
        "<a href=\"https://colab.research.google.com/github/SanjayShetty01/KPMG-Data-Analytics-Virtual-Experience-Program/blob/main/Task-2/KPMG.ipynb\" target=\"_parent\"><img src=\"https://colab.research.google.com/assets/colab-badge.svg\" alt=\"Open In Colab\"/></a>"
      ]
    },
    {
      "cell_type": "markdown",
      "metadata": {
        "id": "5i1mvGJIPV7O"
      },
      "source": [
        "# TASK 1: Data Quality Assessment"
      ]
    },
    {
      "cell_type": "markdown",
      "metadata": {
        "id": "JbkbjR3tqKgo"
      },
      "source": [
        "### Import the Libraries"
      ]
    },
    {
      "cell_type": "code",
      "metadata": {
        "id": "qS6wHXwUI24A"
      },
      "source": [
        "import pandas as pd\n",
        "import numpy as np\n",
        "import matplotlib.pyplot as plt\n",
        "import datetime as dt \n",
        "from plotnine import *\n",
        "%matplotlib inline\n",
        "import seaborn as sns"
      ],
      "execution_count": null,
      "outputs": []
    },
    {
      "cell_type": "markdown",
      "metadata": {
        "id": "Jp_iuWv6FLBY"
      },
      "source": [
        "## Load the Dataset\n",
        "\n",
        "---\n",
        "\n"
      ]
    },
    {
      "cell_type": "markdown",
      "metadata": {
        "id": "G3muvh4DFaw4"
      },
      "source": [
        "\n",
        "\n",
        "1.   Transactions Data set\n"
      ]
    },
    {
      "cell_type": "code",
      "metadata": {
        "id": "wlf46AaYKYde"
      },
      "source": [
        "Transactions = pd.read_excel('https://s3-ap-southeast-2.amazonaws.com/insidesherpa-assets/vinternship_modules/kpmg_data_analytics/KPMG_VI_New_raw_data_update_final.xlsx', \n",
        "                             sheet_name = 'Transactions', header = 1, skiprows = 0)"
      ],
      "execution_count": null,
      "outputs": []
    },
    {
      "cell_type": "markdown",
      "metadata": {
        "id": "PDtDZri2qty6"
      },
      "source": [
        "A peak into the Transaction Data. "
      ]
    },
    {
      "cell_type": "code",
      "metadata": {
        "colab": {
          "base_uri": "https://localhost:8080/",
          "height": 292
        },
        "id": "6kFyg2V8LUuR",
        "outputId": "ca859860-720a-4498-95c1-3486409f8e28"
      },
      "source": [
        "Transactions.head()"
      ],
      "execution_count": null,
      "outputs": [
        {
          "output_type": "execute_result",
          "data": {
            "text/html": [
              "<div>\n",
              "<style scoped>\n",
              "    .dataframe tbody tr th:only-of-type {\n",
              "        vertical-align: middle;\n",
              "    }\n",
              "\n",
              "    .dataframe tbody tr th {\n",
              "        vertical-align: top;\n",
              "    }\n",
              "\n",
              "    .dataframe thead th {\n",
              "        text-align: right;\n",
              "    }\n",
              "</style>\n",
              "<table border=\"1\" class=\"dataframe\">\n",
              "  <thead>\n",
              "    <tr style=\"text-align: right;\">\n",
              "      <th></th>\n",
              "      <th>transaction_id</th>\n",
              "      <th>product_id</th>\n",
              "      <th>customer_id</th>\n",
              "      <th>transaction_date</th>\n",
              "      <th>online_order</th>\n",
              "      <th>order_status</th>\n",
              "      <th>brand</th>\n",
              "      <th>product_line</th>\n",
              "      <th>product_class</th>\n",
              "      <th>product_size</th>\n",
              "      <th>list_price</th>\n",
              "      <th>standard_cost</th>\n",
              "      <th>product_first_sold_date</th>\n",
              "    </tr>\n",
              "  </thead>\n",
              "  <tbody>\n",
              "    <tr>\n",
              "      <th>0</th>\n",
              "      <td>1</td>\n",
              "      <td>2</td>\n",
              "      <td>2950</td>\n",
              "      <td>2017-02-25</td>\n",
              "      <td>0.0</td>\n",
              "      <td>Approved</td>\n",
              "      <td>Solex</td>\n",
              "      <td>Standard</td>\n",
              "      <td>medium</td>\n",
              "      <td>medium</td>\n",
              "      <td>71.49</td>\n",
              "      <td>53.62</td>\n",
              "      <td>41245.0</td>\n",
              "    </tr>\n",
              "    <tr>\n",
              "      <th>1</th>\n",
              "      <td>2</td>\n",
              "      <td>3</td>\n",
              "      <td>3120</td>\n",
              "      <td>2017-05-21</td>\n",
              "      <td>1.0</td>\n",
              "      <td>Approved</td>\n",
              "      <td>Trek Bicycles</td>\n",
              "      <td>Standard</td>\n",
              "      <td>medium</td>\n",
              "      <td>large</td>\n",
              "      <td>2091.47</td>\n",
              "      <td>388.92</td>\n",
              "      <td>41701.0</td>\n",
              "    </tr>\n",
              "    <tr>\n",
              "      <th>2</th>\n",
              "      <td>3</td>\n",
              "      <td>37</td>\n",
              "      <td>402</td>\n",
              "      <td>2017-10-16</td>\n",
              "      <td>0.0</td>\n",
              "      <td>Approved</td>\n",
              "      <td>OHM Cycles</td>\n",
              "      <td>Standard</td>\n",
              "      <td>low</td>\n",
              "      <td>medium</td>\n",
              "      <td>1793.43</td>\n",
              "      <td>248.82</td>\n",
              "      <td>36361.0</td>\n",
              "    </tr>\n",
              "    <tr>\n",
              "      <th>3</th>\n",
              "      <td>4</td>\n",
              "      <td>88</td>\n",
              "      <td>3135</td>\n",
              "      <td>2017-08-31</td>\n",
              "      <td>0.0</td>\n",
              "      <td>Approved</td>\n",
              "      <td>Norco Bicycles</td>\n",
              "      <td>Standard</td>\n",
              "      <td>medium</td>\n",
              "      <td>medium</td>\n",
              "      <td>1198.46</td>\n",
              "      <td>381.10</td>\n",
              "      <td>36145.0</td>\n",
              "    </tr>\n",
              "    <tr>\n",
              "      <th>4</th>\n",
              "      <td>5</td>\n",
              "      <td>78</td>\n",
              "      <td>787</td>\n",
              "      <td>2017-10-01</td>\n",
              "      <td>1.0</td>\n",
              "      <td>Approved</td>\n",
              "      <td>Giant Bicycles</td>\n",
              "      <td>Standard</td>\n",
              "      <td>medium</td>\n",
              "      <td>large</td>\n",
              "      <td>1765.30</td>\n",
              "      <td>709.48</td>\n",
              "      <td>42226.0</td>\n",
              "    </tr>\n",
              "  </tbody>\n",
              "</table>\n",
              "</div>"
            ],
            "text/plain": [
              "   transaction_id  product_id  ...  standard_cost product_first_sold_date\n",
              "0               1           2  ...          53.62                 41245.0\n",
              "1               2           3  ...         388.92                 41701.0\n",
              "2               3          37  ...         248.82                 36361.0\n",
              "3               4          88  ...         381.10                 36145.0\n",
              "4               5          78  ...         709.48                 42226.0\n",
              "\n",
              "[5 rows x 13 columns]"
            ]
          },
          "metadata": {
            "tags": []
          },
          "execution_count": 4
        }
      ]
    },
    {
      "cell_type": "code",
      "metadata": {
        "colab": {
          "base_uri": "https://localhost:8080/"
        },
        "id": "EqPeRI6hE_gD",
        "outputId": "d2732561-b1ff-4191-e342-826c68578753"
      },
      "source": [
        "Transactions.info()"
      ],
      "execution_count": null,
      "outputs": [
        {
          "output_type": "stream",
          "text": [
            "<class 'pandas.core.frame.DataFrame'>\n",
            "RangeIndex: 20000 entries, 0 to 19999\n",
            "Data columns (total 13 columns):\n",
            " #   Column                   Non-Null Count  Dtype         \n",
            "---  ------                   --------------  -----         \n",
            " 0   transaction_id           20000 non-null  int64         \n",
            " 1   product_id               20000 non-null  int64         \n",
            " 2   customer_id              20000 non-null  int64         \n",
            " 3   transaction_date         20000 non-null  datetime64[ns]\n",
            " 4   online_order             19640 non-null  float64       \n",
            " 5   order_status             20000 non-null  object        \n",
            " 6   brand                    19803 non-null  object        \n",
            " 7   product_line             19803 non-null  object        \n",
            " 8   product_class            19803 non-null  object        \n",
            " 9   product_size             19803 non-null  object        \n",
            " 10  list_price               20000 non-null  float64       \n",
            " 11  standard_cost            19803 non-null  float64       \n",
            " 12  product_first_sold_date  19803 non-null  float64       \n",
            "dtypes: datetime64[ns](1), float64(4), int64(3), object(5)\n",
            "memory usage: 2.0+ MB\n"
          ],
          "name": "stdout"
        }
      ]
    },
    {
      "cell_type": "markdown",
      "metadata": {
        "id": "WN5t3xjMq0hP"
      },
      "source": [
        "The data seems to have some \n",
        "abnormality. Those are,\n",
        "\n",
        "1.   The column 'product_first_sold_date' is in float format instead of being in Date format.\n",
        "2.   The data also seems to have a lot of missing entries."
      ]
    },
    {
      "cell_type": "markdown",
      "metadata": {
        "id": "YYJ2XVczroDH"
      },
      "source": [
        "Converting column 'product_first_sold_date' from float to date fomat.\n",
        "\n",
        "(using 01/01/1900 as the origin since it is the orgin date using by Microsoft Excel)\n",
        "\n",
        "\n",
        "\n",
        "*   Source [Microsoft Support](https://support.microsoft.com/en-us/office/date-systems-in-excel-e7fe7167-48a9-4b96-bb53-5612a800b487)\n"
      ]
    },
    {
      "cell_type": "code",
      "metadata": {
        "id": "VAzMd0A6v-VK"
      },
      "source": [
        "Transactions['product_first_sold_date'] = pd.TimedeltaIndex(Transactions['product_first_sold_date'], unit = 'd') + dt.datetime(1900,1,1)\n"
      ],
      "execution_count": null,
      "outputs": []
    },
    {
      "cell_type": "markdown",
      "metadata": {
        "id": "9vk6qt1buFpw"
      },
      "source": [
        "Removing all Na entries. "
      ]
    },
    {
      "cell_type": "code",
      "metadata": {
        "id": "-3LjUkfKRKt2"
      },
      "source": [
        "Transactions.dropna(axis = 0, how = 'any', inplace= True)"
      ],
      "execution_count": null,
      "outputs": []
    },
    {
      "cell_type": "code",
      "metadata": {
        "colab": {
          "base_uri": "https://localhost:8080/",
          "height": 292
        },
        "id": "L3_iYekddUQs",
        "outputId": "8f285440-aaa3-43e4-8603-fff191416354"
      },
      "source": [
        "Transactions.head()"
      ],
      "execution_count": null,
      "outputs": [
        {
          "output_type": "execute_result",
          "data": {
            "text/html": [
              "<div>\n",
              "<style scoped>\n",
              "    .dataframe tbody tr th:only-of-type {\n",
              "        vertical-align: middle;\n",
              "    }\n",
              "\n",
              "    .dataframe tbody tr th {\n",
              "        vertical-align: top;\n",
              "    }\n",
              "\n",
              "    .dataframe thead th {\n",
              "        text-align: right;\n",
              "    }\n",
              "</style>\n",
              "<table border=\"1\" class=\"dataframe\">\n",
              "  <thead>\n",
              "    <tr style=\"text-align: right;\">\n",
              "      <th></th>\n",
              "      <th>transaction_id</th>\n",
              "      <th>product_id</th>\n",
              "      <th>customer_id</th>\n",
              "      <th>transaction_date</th>\n",
              "      <th>online_order</th>\n",
              "      <th>order_status</th>\n",
              "      <th>brand</th>\n",
              "      <th>product_line</th>\n",
              "      <th>product_class</th>\n",
              "      <th>product_size</th>\n",
              "      <th>list_price</th>\n",
              "      <th>standard_cost</th>\n",
              "      <th>product_first_sold_date</th>\n",
              "    </tr>\n",
              "  </thead>\n",
              "  <tbody>\n",
              "    <tr>\n",
              "      <th>0</th>\n",
              "      <td>1</td>\n",
              "      <td>2</td>\n",
              "      <td>2950</td>\n",
              "      <td>2017-02-25</td>\n",
              "      <td>0.0</td>\n",
              "      <td>Approved</td>\n",
              "      <td>Solex</td>\n",
              "      <td>Standard</td>\n",
              "      <td>medium</td>\n",
              "      <td>medium</td>\n",
              "      <td>71.49</td>\n",
              "      <td>53.62</td>\n",
              "      <td>2012-12-04</td>\n",
              "    </tr>\n",
              "    <tr>\n",
              "      <th>1</th>\n",
              "      <td>2</td>\n",
              "      <td>3</td>\n",
              "      <td>3120</td>\n",
              "      <td>2017-05-21</td>\n",
              "      <td>1.0</td>\n",
              "      <td>Approved</td>\n",
              "      <td>Trek Bicycles</td>\n",
              "      <td>Standard</td>\n",
              "      <td>medium</td>\n",
              "      <td>large</td>\n",
              "      <td>2091.47</td>\n",
              "      <td>388.92</td>\n",
              "      <td>2014-03-05</td>\n",
              "    </tr>\n",
              "    <tr>\n",
              "      <th>2</th>\n",
              "      <td>3</td>\n",
              "      <td>37</td>\n",
              "      <td>402</td>\n",
              "      <td>2017-10-16</td>\n",
              "      <td>0.0</td>\n",
              "      <td>Approved</td>\n",
              "      <td>OHM Cycles</td>\n",
              "      <td>Standard</td>\n",
              "      <td>low</td>\n",
              "      <td>medium</td>\n",
              "      <td>1793.43</td>\n",
              "      <td>248.82</td>\n",
              "      <td>1999-07-22</td>\n",
              "    </tr>\n",
              "    <tr>\n",
              "      <th>3</th>\n",
              "      <td>4</td>\n",
              "      <td>88</td>\n",
              "      <td>3135</td>\n",
              "      <td>2017-08-31</td>\n",
              "      <td>0.0</td>\n",
              "      <td>Approved</td>\n",
              "      <td>Norco Bicycles</td>\n",
              "      <td>Standard</td>\n",
              "      <td>medium</td>\n",
              "      <td>medium</td>\n",
              "      <td>1198.46</td>\n",
              "      <td>381.10</td>\n",
              "      <td>1998-12-18</td>\n",
              "    </tr>\n",
              "    <tr>\n",
              "      <th>4</th>\n",
              "      <td>5</td>\n",
              "      <td>78</td>\n",
              "      <td>787</td>\n",
              "      <td>2017-10-01</td>\n",
              "      <td>1.0</td>\n",
              "      <td>Approved</td>\n",
              "      <td>Giant Bicycles</td>\n",
              "      <td>Standard</td>\n",
              "      <td>medium</td>\n",
              "      <td>large</td>\n",
              "      <td>1765.30</td>\n",
              "      <td>709.48</td>\n",
              "      <td>2015-08-12</td>\n",
              "    </tr>\n",
              "  </tbody>\n",
              "</table>\n",
              "</div>"
            ],
            "text/plain": [
              "   transaction_id  product_id  ...  standard_cost product_first_sold_date\n",
              "0               1           2  ...          53.62              2012-12-04\n",
              "1               2           3  ...         388.92              2014-03-05\n",
              "2               3          37  ...         248.82              1999-07-22\n",
              "3               4          88  ...         381.10              1998-12-18\n",
              "4               5          78  ...         709.48              2015-08-12\n",
              "\n",
              "[5 rows x 13 columns]"
            ]
          },
          "metadata": {
            "tags": []
          },
          "execution_count": 8
        }
      ]
    },
    {
      "cell_type": "markdown",
      "metadata": {
        "id": "7vvtF3MkFlZt"
      },
      "source": [
        "\n",
        "\n",
        "2.   New Customer List\n",
        "\n"
      ]
    },
    {
      "cell_type": "code",
      "metadata": {
        "id": "GIxH6a5NLaoN"
      },
      "source": [
        "NewCustomerList = pd.read_excel('https://s3-ap-southeast-2.amazonaws.com/insidesherpa-assets/vinternship_modules/kpmg_data_analytics/KPMG_VI_New_raw_data_update_final.xlsx', \n",
        "                                sheet_name = 'NewCustomerList', header = 1, skiprows= 0)"
      ],
      "execution_count": null,
      "outputs": []
    },
    {
      "cell_type": "markdown",
      "metadata": {
        "id": "qu-6ABJtuRXW"
      },
      "source": [
        "A sneak peak into NewCustomerList Data set. "
      ]
    },
    {
      "cell_type": "code",
      "metadata": {
        "colab": {
          "base_uri": "https://localhost:8080/",
          "height": 394
        },
        "id": "kNeudlWsL5Ru",
        "outputId": "16cdd80e-8e20-4572-a5a0-d6a99e6f1c87"
      },
      "source": [
        "NewCustomerList.head()"
      ],
      "execution_count": null,
      "outputs": [
        {
          "output_type": "execute_result",
          "data": {
            "text/html": [
              "<div>\n",
              "<style scoped>\n",
              "    .dataframe tbody tr th:only-of-type {\n",
              "        vertical-align: middle;\n",
              "    }\n",
              "\n",
              "    .dataframe tbody tr th {\n",
              "        vertical-align: top;\n",
              "    }\n",
              "\n",
              "    .dataframe thead th {\n",
              "        text-align: right;\n",
              "    }\n",
              "</style>\n",
              "<table border=\"1\" class=\"dataframe\">\n",
              "  <thead>\n",
              "    <tr style=\"text-align: right;\">\n",
              "      <th></th>\n",
              "      <th>first_name</th>\n",
              "      <th>last_name</th>\n",
              "      <th>gender</th>\n",
              "      <th>past_3_years_bike_related_purchases</th>\n",
              "      <th>DOB</th>\n",
              "      <th>job_title</th>\n",
              "      <th>job_industry_category</th>\n",
              "      <th>wealth_segment</th>\n",
              "      <th>deceased_indicator</th>\n",
              "      <th>owns_car</th>\n",
              "      <th>tenure</th>\n",
              "      <th>address</th>\n",
              "      <th>postcode</th>\n",
              "      <th>state</th>\n",
              "      <th>country</th>\n",
              "      <th>property_valuation</th>\n",
              "      <th>Unnamed: 16</th>\n",
              "      <th>Unnamed: 17</th>\n",
              "      <th>Unnamed: 18</th>\n",
              "      <th>Unnamed: 19</th>\n",
              "      <th>Unnamed: 20</th>\n",
              "      <th>Rank</th>\n",
              "      <th>Value</th>\n",
              "    </tr>\n",
              "  </thead>\n",
              "  <tbody>\n",
              "    <tr>\n",
              "      <th>0</th>\n",
              "      <td>Chickie</td>\n",
              "      <td>Brister</td>\n",
              "      <td>Male</td>\n",
              "      <td>86</td>\n",
              "      <td>1957-07-12</td>\n",
              "      <td>General Manager</td>\n",
              "      <td>Manufacturing</td>\n",
              "      <td>Mass Customer</td>\n",
              "      <td>N</td>\n",
              "      <td>Yes</td>\n",
              "      <td>14</td>\n",
              "      <td>45 Shopko Center</td>\n",
              "      <td>4500</td>\n",
              "      <td>QLD</td>\n",
              "      <td>Australia</td>\n",
              "      <td>6</td>\n",
              "      <td>0.56</td>\n",
              "      <td>0.7000</td>\n",
              "      <td>0.8750</td>\n",
              "      <td>0.743750</td>\n",
              "      <td>1</td>\n",
              "      <td>1</td>\n",
              "      <td>1.718750</td>\n",
              "    </tr>\n",
              "    <tr>\n",
              "      <th>1</th>\n",
              "      <td>Morly</td>\n",
              "      <td>Genery</td>\n",
              "      <td>Male</td>\n",
              "      <td>69</td>\n",
              "      <td>1970-03-22</td>\n",
              "      <td>Structural Engineer</td>\n",
              "      <td>Property</td>\n",
              "      <td>Mass Customer</td>\n",
              "      <td>N</td>\n",
              "      <td>No</td>\n",
              "      <td>16</td>\n",
              "      <td>14 Mccormick Park</td>\n",
              "      <td>2113</td>\n",
              "      <td>NSW</td>\n",
              "      <td>Australia</td>\n",
              "      <td>11</td>\n",
              "      <td>0.89</td>\n",
              "      <td>0.8900</td>\n",
              "      <td>1.1125</td>\n",
              "      <td>0.945625</td>\n",
              "      <td>1</td>\n",
              "      <td>1</td>\n",
              "      <td>1.718750</td>\n",
              "    </tr>\n",
              "    <tr>\n",
              "      <th>2</th>\n",
              "      <td>Ardelis</td>\n",
              "      <td>Forrester</td>\n",
              "      <td>Female</td>\n",
              "      <td>10</td>\n",
              "      <td>1974-08-28</td>\n",
              "      <td>Senior Cost Accountant</td>\n",
              "      <td>Financial Services</td>\n",
              "      <td>Affluent Customer</td>\n",
              "      <td>N</td>\n",
              "      <td>No</td>\n",
              "      <td>10</td>\n",
              "      <td>5 Colorado Crossing</td>\n",
              "      <td>3505</td>\n",
              "      <td>VIC</td>\n",
              "      <td>Australia</td>\n",
              "      <td>5</td>\n",
              "      <td>1.01</td>\n",
              "      <td>1.0100</td>\n",
              "      <td>1.0100</td>\n",
              "      <td>1.010000</td>\n",
              "      <td>1</td>\n",
              "      <td>1</td>\n",
              "      <td>1.718750</td>\n",
              "    </tr>\n",
              "    <tr>\n",
              "      <th>3</th>\n",
              "      <td>Lucine</td>\n",
              "      <td>Stutt</td>\n",
              "      <td>Female</td>\n",
              "      <td>64</td>\n",
              "      <td>1979-01-28</td>\n",
              "      <td>Account Representative III</td>\n",
              "      <td>Manufacturing</td>\n",
              "      <td>Affluent Customer</td>\n",
              "      <td>N</td>\n",
              "      <td>Yes</td>\n",
              "      <td>5</td>\n",
              "      <td>207 Annamark Plaza</td>\n",
              "      <td>4814</td>\n",
              "      <td>QLD</td>\n",
              "      <td>Australia</td>\n",
              "      <td>1</td>\n",
              "      <td>0.87</td>\n",
              "      <td>1.0875</td>\n",
              "      <td>1.0875</td>\n",
              "      <td>1.087500</td>\n",
              "      <td>4</td>\n",
              "      <td>4</td>\n",
              "      <td>1.703125</td>\n",
              "    </tr>\n",
              "    <tr>\n",
              "      <th>4</th>\n",
              "      <td>Melinda</td>\n",
              "      <td>Hadlee</td>\n",
              "      <td>Female</td>\n",
              "      <td>34</td>\n",
              "      <td>1965-09-21</td>\n",
              "      <td>Financial Analyst</td>\n",
              "      <td>Financial Services</td>\n",
              "      <td>Affluent Customer</td>\n",
              "      <td>N</td>\n",
              "      <td>No</td>\n",
              "      <td>19</td>\n",
              "      <td>115 Montana Place</td>\n",
              "      <td>2093</td>\n",
              "      <td>NSW</td>\n",
              "      <td>Australia</td>\n",
              "      <td>9</td>\n",
              "      <td>0.52</td>\n",
              "      <td>0.5200</td>\n",
              "      <td>0.6500</td>\n",
              "      <td>0.650000</td>\n",
              "      <td>4</td>\n",
              "      <td>4</td>\n",
              "      <td>1.703125</td>\n",
              "    </tr>\n",
              "  </tbody>\n",
              "</table>\n",
              "</div>"
            ],
            "text/plain": [
              "  first_name  last_name  gender  ...  Unnamed: 20 Rank     Value\n",
              "0    Chickie    Brister    Male  ...            1    1  1.718750\n",
              "1      Morly     Genery    Male  ...            1    1  1.718750\n",
              "2    Ardelis  Forrester  Female  ...            1    1  1.718750\n",
              "3     Lucine      Stutt  Female  ...            4    4  1.703125\n",
              "4    Melinda     Hadlee  Female  ...            4    4  1.703125\n",
              "\n",
              "[5 rows x 23 columns]"
            ]
          },
          "metadata": {
            "tags": []
          },
          "execution_count": 10
        }
      ]
    },
    {
      "cell_type": "code",
      "metadata": {
        "colab": {
          "base_uri": "https://localhost:8080/"
        },
        "id": "I3LO8JlpGstH",
        "outputId": "a6ccd1ec-96c7-4d5c-fc4d-878714482592"
      },
      "source": [
        "NewCustomerList.info()"
      ],
      "execution_count": null,
      "outputs": [
        {
          "output_type": "stream",
          "text": [
            "<class 'pandas.core.frame.DataFrame'>\n",
            "RangeIndex: 1000 entries, 0 to 999\n",
            "Data columns (total 23 columns):\n",
            " #   Column                               Non-Null Count  Dtype         \n",
            "---  ------                               --------------  -----         \n",
            " 0   first_name                           1000 non-null   object        \n",
            " 1   last_name                            971 non-null    object        \n",
            " 2   gender                               1000 non-null   object        \n",
            " 3   past_3_years_bike_related_purchases  1000 non-null   int64         \n",
            " 4   DOB                                  983 non-null    datetime64[ns]\n",
            " 5   job_title                            894 non-null    object        \n",
            " 6   job_industry_category                835 non-null    object        \n",
            " 7   wealth_segment                       1000 non-null   object        \n",
            " 8   deceased_indicator                   1000 non-null   object        \n",
            " 9   owns_car                             1000 non-null   object        \n",
            " 10  tenure                               1000 non-null   int64         \n",
            " 11  address                              1000 non-null   object        \n",
            " 12  postcode                             1000 non-null   int64         \n",
            " 13  state                                1000 non-null   object        \n",
            " 14  country                              1000 non-null   object        \n",
            " 15  property_valuation                   1000 non-null   int64         \n",
            " 16  Unnamed: 16                          1000 non-null   float64       \n",
            " 17  Unnamed: 17                          1000 non-null   float64       \n",
            " 18  Unnamed: 18                          1000 non-null   float64       \n",
            " 19  Unnamed: 19                          1000 non-null   float64       \n",
            " 20  Unnamed: 20                          1000 non-null   int64         \n",
            " 21  Rank                                 1000 non-null   int64         \n",
            " 22  Value                                1000 non-null   float64       \n",
            "dtypes: datetime64[ns](1), float64(5), int64(6), object(11)\n",
            "memory usage: 179.8+ KB\n"
          ],
          "name": "stdout"
        }
      ]
    },
    {
      "cell_type": "markdown",
      "metadata": {
        "id": "h4zo9_vruroB"
      },
      "source": [
        "The Data seems to have a number of abnormality. Those are,\n",
        "\n",
        "1.   Seems to have five columns, which have column names, 'Unnamed: 16', 'Unnamed: 17', 'Unnamed: 18', 'Unnamaed: 19', 'Unnamed: 20'. And these columns seems to carry no real meaning, hence these could be dropped from further analysis.\n",
        "\n",
        "2.   The Date of Birth ('DOB') column could be manipluated to get Age column, which could provide a better base as compared to DOB column for further analysis.\n",
        "\n",
        "3. The dataset also seems to have NA values. \n",
        "\n",
        "\n"
      ]
    },
    {
      "cell_type": "markdown",
      "metadata": {
        "id": "QeYZJ0RcwndU"
      },
      "source": [
        "Removing unnecessary columns. "
      ]
    },
    {
      "cell_type": "code",
      "metadata": {
        "id": "Ht779mryto6w"
      },
      "source": [
        "NewCustomerList.drop(['Unnamed: 16', 'Unnamed: 17', 'Unnamed: 18', 'Unnamed: 19', 'Unnamed: 20'], axis=1, inplace=True)"
      ],
      "execution_count": null,
      "outputs": []
    },
    {
      "cell_type": "markdown",
      "metadata": {
        "id": "eP0Lzd3mwxuQ"
      },
      "source": [
        "Removing all NA values"
      ]
    },
    {
      "cell_type": "code",
      "metadata": {
        "id": "NCcY5NbbSjiO"
      },
      "source": [
        "NewCustomerList.dropna(axis = 0, how = 'any', inplace= True)"
      ],
      "execution_count": null,
      "outputs": []
    },
    {
      "cell_type": "markdown",
      "metadata": {
        "id": "Qd2L4yngw18o"
      },
      "source": [
        "Creating a new column named Age', which uses DOB column to calulate the age of the customer. "
      ]
    },
    {
      "cell_type": "code",
      "metadata": {
        "id": "Zz_X_y49SKn8"
      },
      "source": [
        "NewCustomerList.insert(loc= 6, column= 'Age', value=0)\n",
        "Today = dt.datetime.today().year\n",
        "NewCustomerList['Age'] = Today - NewCustomerList.DOB.dt.year"
      ],
      "execution_count": null,
      "outputs": []
    },
    {
      "cell_type": "code",
      "metadata": {
        "colab": {
          "base_uri": "https://localhost:8080/",
          "height": 377
        },
        "id": "JlMej7hncqh4",
        "outputId": "de160f16-adb1-4092-f6e8-a01b7893afd0"
      },
      "source": [
        "NewCustomerList.head()"
      ],
      "execution_count": null,
      "outputs": [
        {
          "output_type": "execute_result",
          "data": {
            "text/html": [
              "<div>\n",
              "<style scoped>\n",
              "    .dataframe tbody tr th:only-of-type {\n",
              "        vertical-align: middle;\n",
              "    }\n",
              "\n",
              "    .dataframe tbody tr th {\n",
              "        vertical-align: top;\n",
              "    }\n",
              "\n",
              "    .dataframe thead th {\n",
              "        text-align: right;\n",
              "    }\n",
              "</style>\n",
              "<table border=\"1\" class=\"dataframe\">\n",
              "  <thead>\n",
              "    <tr style=\"text-align: right;\">\n",
              "      <th></th>\n",
              "      <th>first_name</th>\n",
              "      <th>last_name</th>\n",
              "      <th>gender</th>\n",
              "      <th>past_3_years_bike_related_purchases</th>\n",
              "      <th>DOB</th>\n",
              "      <th>job_title</th>\n",
              "      <th>Age</th>\n",
              "      <th>job_industry_category</th>\n",
              "      <th>wealth_segment</th>\n",
              "      <th>deceased_indicator</th>\n",
              "      <th>owns_car</th>\n",
              "      <th>tenure</th>\n",
              "      <th>address</th>\n",
              "      <th>postcode</th>\n",
              "      <th>state</th>\n",
              "      <th>country</th>\n",
              "      <th>property_valuation</th>\n",
              "      <th>Rank</th>\n",
              "      <th>Value</th>\n",
              "    </tr>\n",
              "  </thead>\n",
              "  <tbody>\n",
              "    <tr>\n",
              "      <th>0</th>\n",
              "      <td>Chickie</td>\n",
              "      <td>Brister</td>\n",
              "      <td>Male</td>\n",
              "      <td>86</td>\n",
              "      <td>1957-07-12</td>\n",
              "      <td>General Manager</td>\n",
              "      <td>64</td>\n",
              "      <td>Manufacturing</td>\n",
              "      <td>Mass Customer</td>\n",
              "      <td>N</td>\n",
              "      <td>Yes</td>\n",
              "      <td>14</td>\n",
              "      <td>45 Shopko Center</td>\n",
              "      <td>4500</td>\n",
              "      <td>QLD</td>\n",
              "      <td>Australia</td>\n",
              "      <td>6</td>\n",
              "      <td>1</td>\n",
              "      <td>1.718750</td>\n",
              "    </tr>\n",
              "    <tr>\n",
              "      <th>1</th>\n",
              "      <td>Morly</td>\n",
              "      <td>Genery</td>\n",
              "      <td>Male</td>\n",
              "      <td>69</td>\n",
              "      <td>1970-03-22</td>\n",
              "      <td>Structural Engineer</td>\n",
              "      <td>51</td>\n",
              "      <td>Property</td>\n",
              "      <td>Mass Customer</td>\n",
              "      <td>N</td>\n",
              "      <td>No</td>\n",
              "      <td>16</td>\n",
              "      <td>14 Mccormick Park</td>\n",
              "      <td>2113</td>\n",
              "      <td>NSW</td>\n",
              "      <td>Australia</td>\n",
              "      <td>11</td>\n",
              "      <td>1</td>\n",
              "      <td>1.718750</td>\n",
              "    </tr>\n",
              "    <tr>\n",
              "      <th>2</th>\n",
              "      <td>Ardelis</td>\n",
              "      <td>Forrester</td>\n",
              "      <td>Female</td>\n",
              "      <td>10</td>\n",
              "      <td>1974-08-28</td>\n",
              "      <td>Senior Cost Accountant</td>\n",
              "      <td>47</td>\n",
              "      <td>Financial Services</td>\n",
              "      <td>Affluent Customer</td>\n",
              "      <td>N</td>\n",
              "      <td>No</td>\n",
              "      <td>10</td>\n",
              "      <td>5 Colorado Crossing</td>\n",
              "      <td>3505</td>\n",
              "      <td>VIC</td>\n",
              "      <td>Australia</td>\n",
              "      <td>5</td>\n",
              "      <td>1</td>\n",
              "      <td>1.718750</td>\n",
              "    </tr>\n",
              "    <tr>\n",
              "      <th>3</th>\n",
              "      <td>Lucine</td>\n",
              "      <td>Stutt</td>\n",
              "      <td>Female</td>\n",
              "      <td>64</td>\n",
              "      <td>1979-01-28</td>\n",
              "      <td>Account Representative III</td>\n",
              "      <td>42</td>\n",
              "      <td>Manufacturing</td>\n",
              "      <td>Affluent Customer</td>\n",
              "      <td>N</td>\n",
              "      <td>Yes</td>\n",
              "      <td>5</td>\n",
              "      <td>207 Annamark Plaza</td>\n",
              "      <td>4814</td>\n",
              "      <td>QLD</td>\n",
              "      <td>Australia</td>\n",
              "      <td>1</td>\n",
              "      <td>4</td>\n",
              "      <td>1.703125</td>\n",
              "    </tr>\n",
              "    <tr>\n",
              "      <th>4</th>\n",
              "      <td>Melinda</td>\n",
              "      <td>Hadlee</td>\n",
              "      <td>Female</td>\n",
              "      <td>34</td>\n",
              "      <td>1965-09-21</td>\n",
              "      <td>Financial Analyst</td>\n",
              "      <td>56</td>\n",
              "      <td>Financial Services</td>\n",
              "      <td>Affluent Customer</td>\n",
              "      <td>N</td>\n",
              "      <td>No</td>\n",
              "      <td>19</td>\n",
              "      <td>115 Montana Place</td>\n",
              "      <td>2093</td>\n",
              "      <td>NSW</td>\n",
              "      <td>Australia</td>\n",
              "      <td>9</td>\n",
              "      <td>4</td>\n",
              "      <td>1.703125</td>\n",
              "    </tr>\n",
              "  </tbody>\n",
              "</table>\n",
              "</div>"
            ],
            "text/plain": [
              "  first_name  last_name  gender  ...  property_valuation Rank     Value\n",
              "0    Chickie    Brister    Male  ...                   6    1  1.718750\n",
              "1      Morly     Genery    Male  ...                  11    1  1.718750\n",
              "2    Ardelis  Forrester  Female  ...                   5    1  1.718750\n",
              "3     Lucine      Stutt  Female  ...                   1    4  1.703125\n",
              "4    Melinda     Hadlee  Female  ...                   9    4  1.703125\n",
              "\n",
              "[5 rows x 19 columns]"
            ]
          },
          "metadata": {
            "tags": []
          },
          "execution_count": 15
        }
      ]
    },
    {
      "cell_type": "markdown",
      "metadata": {
        "id": "7UIZ4H8lGZKK"
      },
      "source": [
        "\n",
        "\n",
        "3.   Customer Demographic\n",
        "\n"
      ]
    },
    {
      "cell_type": "code",
      "metadata": {
        "id": "Oy5szaQRRUEg"
      },
      "source": [
        "CustomerDemographic = pd.read_excel('https://s3-ap-southeast-2.amazonaws.com/insidesherpa-assets/vinternship_modules/kpmg_data_analytics/KPMG_VI_New_raw_data_update_final.xlsx',\n",
        "                                    sheet_name = 'CustomerDemographic', header = 1, skiprows = 0)"
      ],
      "execution_count": null,
      "outputs": []
    },
    {
      "cell_type": "markdown",
      "metadata": {
        "id": "Dhmw-FByxV9a"
      },
      "source": [
        "A sneak peak into customer demographic data"
      ]
    },
    {
      "cell_type": "code",
      "metadata": {
        "id": "9Iu9mZAQR73O",
        "colab": {
          "base_uri": "https://localhost:8080/",
          "height": 326
        },
        "outputId": "9e1c5381-b824-4dc1-bb9e-981901ed0d40"
      },
      "source": [
        "CustomerDemographic.head()"
      ],
      "execution_count": null,
      "outputs": [
        {
          "output_type": "execute_result",
          "data": {
            "text/html": [
              "<div>\n",
              "<style scoped>\n",
              "    .dataframe tbody tr th:only-of-type {\n",
              "        vertical-align: middle;\n",
              "    }\n",
              "\n",
              "    .dataframe tbody tr th {\n",
              "        vertical-align: top;\n",
              "    }\n",
              "\n",
              "    .dataframe thead th {\n",
              "        text-align: right;\n",
              "    }\n",
              "</style>\n",
              "<table border=\"1\" class=\"dataframe\">\n",
              "  <thead>\n",
              "    <tr style=\"text-align: right;\">\n",
              "      <th></th>\n",
              "      <th>customer_id</th>\n",
              "      <th>first_name</th>\n",
              "      <th>last_name</th>\n",
              "      <th>gender</th>\n",
              "      <th>past_3_years_bike_related_purchases</th>\n",
              "      <th>DOB</th>\n",
              "      <th>job_title</th>\n",
              "      <th>job_industry_category</th>\n",
              "      <th>wealth_segment</th>\n",
              "      <th>deceased_indicator</th>\n",
              "      <th>default</th>\n",
              "      <th>owns_car</th>\n",
              "      <th>tenure</th>\n",
              "    </tr>\n",
              "  </thead>\n",
              "  <tbody>\n",
              "    <tr>\n",
              "      <th>0</th>\n",
              "      <td>1</td>\n",
              "      <td>Laraine</td>\n",
              "      <td>Medendorp</td>\n",
              "      <td>F</td>\n",
              "      <td>93</td>\n",
              "      <td>1953-10-12</td>\n",
              "      <td>Executive Secretary</td>\n",
              "      <td>Health</td>\n",
              "      <td>Mass Customer</td>\n",
              "      <td>N</td>\n",
              "      <td>\"'</td>\n",
              "      <td>Yes</td>\n",
              "      <td>11.0</td>\n",
              "    </tr>\n",
              "    <tr>\n",
              "      <th>1</th>\n",
              "      <td>2</td>\n",
              "      <td>Eli</td>\n",
              "      <td>Bockman</td>\n",
              "      <td>Male</td>\n",
              "      <td>81</td>\n",
              "      <td>1980-12-16</td>\n",
              "      <td>Administrative Officer</td>\n",
              "      <td>Financial Services</td>\n",
              "      <td>Mass Customer</td>\n",
              "      <td>N</td>\n",
              "      <td>&lt;script&gt;alert('hi')&lt;/script&gt;</td>\n",
              "      <td>Yes</td>\n",
              "      <td>16.0</td>\n",
              "    </tr>\n",
              "    <tr>\n",
              "      <th>2</th>\n",
              "      <td>3</td>\n",
              "      <td>Arlin</td>\n",
              "      <td>Dearle</td>\n",
              "      <td>Male</td>\n",
              "      <td>61</td>\n",
              "      <td>1954-01-20</td>\n",
              "      <td>Recruiting Manager</td>\n",
              "      <td>Property</td>\n",
              "      <td>Mass Customer</td>\n",
              "      <td>N</td>\n",
              "      <td>2018-02-01 00:00:00</td>\n",
              "      <td>Yes</td>\n",
              "      <td>15.0</td>\n",
              "    </tr>\n",
              "    <tr>\n",
              "      <th>3</th>\n",
              "      <td>4</td>\n",
              "      <td>Talbot</td>\n",
              "      <td>NaN</td>\n",
              "      <td>Male</td>\n",
              "      <td>33</td>\n",
              "      <td>1961-10-03</td>\n",
              "      <td>NaN</td>\n",
              "      <td>IT</td>\n",
              "      <td>Mass Customer</td>\n",
              "      <td>N</td>\n",
              "      <td>() { _; } &gt;_[$($())] { touch /tmp/blns.shellsh...</td>\n",
              "      <td>No</td>\n",
              "      <td>7.0</td>\n",
              "    </tr>\n",
              "    <tr>\n",
              "      <th>4</th>\n",
              "      <td>5</td>\n",
              "      <td>Sheila-kathryn</td>\n",
              "      <td>Calton</td>\n",
              "      <td>Female</td>\n",
              "      <td>56</td>\n",
              "      <td>1977-05-13</td>\n",
              "      <td>Senior Editor</td>\n",
              "      <td>NaN</td>\n",
              "      <td>Affluent Customer</td>\n",
              "      <td>N</td>\n",
              "      <td>NIL</td>\n",
              "      <td>Yes</td>\n",
              "      <td>8.0</td>\n",
              "    </tr>\n",
              "  </tbody>\n",
              "</table>\n",
              "</div>"
            ],
            "text/plain": [
              "   customer_id      first_name  ... owns_car tenure\n",
              "0            1         Laraine  ...      Yes   11.0\n",
              "1            2             Eli  ...      Yes   16.0\n",
              "2            3           Arlin  ...      Yes   15.0\n",
              "3            4          Talbot  ...       No    7.0\n",
              "4            5  Sheila-kathryn  ...      Yes    8.0\n",
              "\n",
              "[5 rows x 13 columns]"
            ]
          },
          "metadata": {
            "tags": []
          },
          "execution_count": 17
        }
      ]
    },
    {
      "cell_type": "code",
      "metadata": {
        "id": "95e_pSvLG0-a",
        "colab": {
          "base_uri": "https://localhost:8080/"
        },
        "outputId": "c7a585c0-2b01-4a29-8a96-caf992260abc"
      },
      "source": [
        "CustomerDemographic.info()"
      ],
      "execution_count": null,
      "outputs": [
        {
          "output_type": "stream",
          "text": [
            "<class 'pandas.core.frame.DataFrame'>\n",
            "RangeIndex: 4000 entries, 0 to 3999\n",
            "Data columns (total 13 columns):\n",
            " #   Column                               Non-Null Count  Dtype         \n",
            "---  ------                               --------------  -----         \n",
            " 0   customer_id                          4000 non-null   int64         \n",
            " 1   first_name                           4000 non-null   object        \n",
            " 2   last_name                            3875 non-null   object        \n",
            " 3   gender                               4000 non-null   object        \n",
            " 4   past_3_years_bike_related_purchases  4000 non-null   int64         \n",
            " 5   DOB                                  3913 non-null   datetime64[ns]\n",
            " 6   job_title                            3494 non-null   object        \n",
            " 7   job_industry_category                3344 non-null   object        \n",
            " 8   wealth_segment                       4000 non-null   object        \n",
            " 9   deceased_indicator                   4000 non-null   object        \n",
            " 10  default                              3698 non-null   object        \n",
            " 11  owns_car                             4000 non-null   object        \n",
            " 12  tenure                               3913 non-null   float64       \n",
            "dtypes: datetime64[ns](1), float64(1), int64(2), object(9)\n",
            "memory usage: 406.4+ KB\n"
          ],
          "name": "stdout"
        }
      ]
    },
    {
      "cell_type": "markdown",
      "metadata": {
        "id": "q3BWNIXHxbYt"
      },
      "source": [
        "The CustomerDemographic seems to have a number of abnormalities, like\n",
        "\n",
        "1. The column 'default' has some weird entries, failing to signify any real meaning to the data\n",
        "\n",
        "2. The data also has irregular entries in 'gender' column, like (Femal), hence, assuming that female ~ Female, F ~ Female and also assuming gender entry 'U' to be 'Unknown'. \n",
        "3. Just like the previous dataset, the CustomerDemographic also has 'DOB' column, so, we would interested in creating 'Age' column.\n",
        "4. The data does incorpate NA entries. "
      ]
    },
    {
      "cell_type": "markdown",
      "metadata": {
        "id": "eBEhn7Cs3Saj"
      },
      "source": [
        "Remove the 'default' column. "
      ]
    },
    {
      "cell_type": "code",
      "metadata": {
        "id": "MkiG7dDxxS9L"
      },
      "source": [
        "CustomerDemographic.drop(['default'], axis = 1, inplace=True)"
      ],
      "execution_count": null,
      "outputs": []
    },
    {
      "cell_type": "markdown",
      "metadata": {
        "id": "qmGwwdBF3gVz"
      },
      "source": [
        "Remove NA entries. "
      ]
    },
    {
      "cell_type": "code",
      "metadata": {
        "id": "Cg3YKw4pSqjO"
      },
      "source": [
        "CustomerDemographic.dropna(axis = 0, how = 'any', inplace= True)"
      ],
      "execution_count": null,
      "outputs": []
    },
    {
      "cell_type": "markdown",
      "metadata": {
        "id": "nSi9aoKH3l23"
      },
      "source": [
        "A Look into entries in 'gender' column. "
      ]
    },
    {
      "cell_type": "markdown",
      "metadata": {
        "id": "Dv0mRGDz3rOS"
      },
      "source": [
        "Fixing the irregular entries from 'gender' column. "
      ]
    },
    {
      "cell_type": "code",
      "metadata": {
        "id": "FjqHjLxdtPUC"
      },
      "source": [
        "CustomerDemographic.replace({'gender':{'F' : 'Female', 'Femal' : 'Female', 'U' : 'Unknown', 'M' : 'Male'}}, inplace = True)"
      ],
      "execution_count": null,
      "outputs": []
    },
    {
      "cell_type": "code",
      "metadata": {
        "id": "0iByIe5HClB7",
        "colab": {
          "base_uri": "https://localhost:8080/"
        },
        "outputId": "6c0bf562-ed51-447b-9522-6f091c996ea3"
      },
      "source": [
        "set(CustomerDemographic['gender'])"
      ],
      "execution_count": null,
      "outputs": [
        {
          "output_type": "execute_result",
          "data": {
            "text/plain": [
              "{'Female', 'Male', 'Unknown'}"
            ]
          },
          "metadata": {
            "tags": []
          },
          "execution_count": 22
        }
      ]
    },
    {
      "cell_type": "markdown",
      "metadata": {
        "id": "59IxUFqM38Ly"
      },
      "source": [
        "Creating a new 'AGE' column using (DOB) column. "
      ]
    },
    {
      "cell_type": "code",
      "metadata": {
        "id": "Z_Ic8H7Pf6jI"
      },
      "source": [
        "CustomerDemographic.insert(loc= 6, column= 'Age', value=0)"
      ],
      "execution_count": null,
      "outputs": []
    },
    {
      "cell_type": "code",
      "metadata": {
        "id": "mvxtDgd7hdwF"
      },
      "source": [
        "Today = dt.datetime.today().year\n",
        "CustomerDemographic['Age'] = Today - CustomerDemographic.DOB.dt.year"
      ],
      "execution_count": null,
      "outputs": []
    },
    {
      "cell_type": "code",
      "metadata": {
        "id": "81wg6BPoqc7a",
        "colab": {
          "base_uri": "https://localhost:8080/"
        },
        "outputId": "83951921-f2d9-410b-dafc-556447fea736"
      },
      "source": [
        "set(CustomerDemographic.Age)"
      ],
      "execution_count": null,
      "outputs": [
        {
          "output_type": "execute_result",
          "data": {
            "text/plain": [
              "{19,\n",
              " 20,\n",
              " 21,\n",
              " 22,\n",
              " 23,\n",
              " 24,\n",
              " 25,\n",
              " 26,\n",
              " 27,\n",
              " 28,\n",
              " 29,\n",
              " 30,\n",
              " 31,\n",
              " 32,\n",
              " 33,\n",
              " 34,\n",
              " 35,\n",
              " 36,\n",
              " 37,\n",
              " 38,\n",
              " 39,\n",
              " 40,\n",
              " 41,\n",
              " 42,\n",
              " 43,\n",
              " 44,\n",
              " 45,\n",
              " 46,\n",
              " 47,\n",
              " 48,\n",
              " 49,\n",
              " 50,\n",
              " 51,\n",
              " 52,\n",
              " 53,\n",
              " 54,\n",
              " 55,\n",
              " 56,\n",
              " 57,\n",
              " 58,\n",
              " 59,\n",
              " 60,\n",
              " 61,\n",
              " 62,\n",
              " 63,\n",
              " 64,\n",
              " 65,\n",
              " 66,\n",
              " 67,\n",
              " 68,\n",
              " 77,\n",
              " 78,\n",
              " 86,\n",
              " 90,\n",
              " 178}"
            ]
          },
          "metadata": {
            "tags": []
          },
          "execution_count": 25
        }
      ]
    },
    {
      "cell_type": "code",
      "metadata": {
        "id": "b4G__ii4qrGg"
      },
      "source": [
        "#the age column seems to have a value 178, hence discarding the wrong or an outlier entry. \n",
        "\n",
        "CustomerDemographic = CustomerDemographic[CustomerDemographic.Age != 178] "
      ],
      "execution_count": null,
      "outputs": []
    },
    {
      "cell_type": "code",
      "metadata": {
        "colab": {
          "base_uri": "https://localhost:8080/",
          "height": 343
        },
        "id": "ibJ4viS9dZVf",
        "outputId": "1e0dc08b-e5b2-41b4-9ec1-efa8752bed4f"
      },
      "source": [
        "CustomerDemographic.head()"
      ],
      "execution_count": null,
      "outputs": [
        {
          "output_type": "execute_result",
          "data": {
            "text/html": [
              "<div>\n",
              "<style scoped>\n",
              "    .dataframe tbody tr th:only-of-type {\n",
              "        vertical-align: middle;\n",
              "    }\n",
              "\n",
              "    .dataframe tbody tr th {\n",
              "        vertical-align: top;\n",
              "    }\n",
              "\n",
              "    .dataframe thead th {\n",
              "        text-align: right;\n",
              "    }\n",
              "</style>\n",
              "<table border=\"1\" class=\"dataframe\">\n",
              "  <thead>\n",
              "    <tr style=\"text-align: right;\">\n",
              "      <th></th>\n",
              "      <th>customer_id</th>\n",
              "      <th>first_name</th>\n",
              "      <th>last_name</th>\n",
              "      <th>gender</th>\n",
              "      <th>past_3_years_bike_related_purchases</th>\n",
              "      <th>DOB</th>\n",
              "      <th>Age</th>\n",
              "      <th>job_title</th>\n",
              "      <th>job_industry_category</th>\n",
              "      <th>wealth_segment</th>\n",
              "      <th>deceased_indicator</th>\n",
              "      <th>owns_car</th>\n",
              "      <th>tenure</th>\n",
              "    </tr>\n",
              "  </thead>\n",
              "  <tbody>\n",
              "    <tr>\n",
              "      <th>0</th>\n",
              "      <td>1</td>\n",
              "      <td>Laraine</td>\n",
              "      <td>Medendorp</td>\n",
              "      <td>Female</td>\n",
              "      <td>93</td>\n",
              "      <td>1953-10-12</td>\n",
              "      <td>68</td>\n",
              "      <td>Executive Secretary</td>\n",
              "      <td>Health</td>\n",
              "      <td>Mass Customer</td>\n",
              "      <td>N</td>\n",
              "      <td>Yes</td>\n",
              "      <td>11.0</td>\n",
              "    </tr>\n",
              "    <tr>\n",
              "      <th>1</th>\n",
              "      <td>2</td>\n",
              "      <td>Eli</td>\n",
              "      <td>Bockman</td>\n",
              "      <td>Male</td>\n",
              "      <td>81</td>\n",
              "      <td>1980-12-16</td>\n",
              "      <td>41</td>\n",
              "      <td>Administrative Officer</td>\n",
              "      <td>Financial Services</td>\n",
              "      <td>Mass Customer</td>\n",
              "      <td>N</td>\n",
              "      <td>Yes</td>\n",
              "      <td>16.0</td>\n",
              "    </tr>\n",
              "    <tr>\n",
              "      <th>2</th>\n",
              "      <td>3</td>\n",
              "      <td>Arlin</td>\n",
              "      <td>Dearle</td>\n",
              "      <td>Male</td>\n",
              "      <td>61</td>\n",
              "      <td>1954-01-20</td>\n",
              "      <td>67</td>\n",
              "      <td>Recruiting Manager</td>\n",
              "      <td>Property</td>\n",
              "      <td>Mass Customer</td>\n",
              "      <td>N</td>\n",
              "      <td>Yes</td>\n",
              "      <td>15.0</td>\n",
              "    </tr>\n",
              "    <tr>\n",
              "      <th>8</th>\n",
              "      <td>9</td>\n",
              "      <td>Mala</td>\n",
              "      <td>Lind</td>\n",
              "      <td>Female</td>\n",
              "      <td>97</td>\n",
              "      <td>1973-03-10</td>\n",
              "      <td>48</td>\n",
              "      <td>Business Systems Development Analyst</td>\n",
              "      <td>Argiculture</td>\n",
              "      <td>Affluent Customer</td>\n",
              "      <td>N</td>\n",
              "      <td>Yes</td>\n",
              "      <td>8.0</td>\n",
              "    </tr>\n",
              "    <tr>\n",
              "      <th>9</th>\n",
              "      <td>10</td>\n",
              "      <td>Fiorenze</td>\n",
              "      <td>Birdall</td>\n",
              "      <td>Female</td>\n",
              "      <td>49</td>\n",
              "      <td>1988-10-11</td>\n",
              "      <td>33</td>\n",
              "      <td>Senior Quality Engineer</td>\n",
              "      <td>Financial Services</td>\n",
              "      <td>Mass Customer</td>\n",
              "      <td>N</td>\n",
              "      <td>Yes</td>\n",
              "      <td>20.0</td>\n",
              "    </tr>\n",
              "  </tbody>\n",
              "</table>\n",
              "</div>"
            ],
            "text/plain": [
              "   customer_id first_name  last_name  ... deceased_indicator  owns_car tenure\n",
              "0            1    Laraine  Medendorp  ...                  N       Yes   11.0\n",
              "1            2        Eli    Bockman  ...                  N       Yes   16.0\n",
              "2            3      Arlin     Dearle  ...                  N       Yes   15.0\n",
              "8            9       Mala       Lind  ...                  N       Yes    8.0\n",
              "9           10   Fiorenze    Birdall  ...                  N       Yes   20.0\n",
              "\n",
              "[5 rows x 13 columns]"
            ]
          },
          "metadata": {
            "tags": []
          },
          "execution_count": 27
        }
      ]
    },
    {
      "cell_type": "markdown",
      "metadata": {
        "id": "sqOh-WPyGhqh"
      },
      "source": [
        "\n",
        "\n",
        "4.   Customer Address\n",
        "\n"
      ]
    },
    {
      "cell_type": "code",
      "metadata": {
        "id": "UN5dcw2eR-7-"
      },
      "source": [
        "CustomerAddress = pd.read_excel('https://s3-ap-southeast-2.amazonaws.com/insidesherpa-assets/vinternship_modules/kpmg_data_analytics/KPMG_VI_New_raw_data_update_final.xlsx',\n",
        "                                sheet_name = \"CustomerAddress\", header = 1, skiprows = 0)"
      ],
      "execution_count": null,
      "outputs": []
    },
    {
      "cell_type": "markdown",
      "metadata": {
        "id": "ixjTzM-v4chg"
      },
      "source": [
        "A sneak peak into CustomerAddress dataset. "
      ]
    },
    {
      "cell_type": "code",
      "metadata": {
        "id": "fGl1mnReTiwt",
        "colab": {
          "base_uri": "https://localhost:8080/",
          "height": 204
        },
        "outputId": "d12692fa-83f4-41ab-cdc8-f2d5054fa004"
      },
      "source": [
        "CustomerAddress.head()"
      ],
      "execution_count": null,
      "outputs": [
        {
          "output_type": "execute_result",
          "data": {
            "text/html": [
              "<div>\n",
              "<style scoped>\n",
              "    .dataframe tbody tr th:only-of-type {\n",
              "        vertical-align: middle;\n",
              "    }\n",
              "\n",
              "    .dataframe tbody tr th {\n",
              "        vertical-align: top;\n",
              "    }\n",
              "\n",
              "    .dataframe thead th {\n",
              "        text-align: right;\n",
              "    }\n",
              "</style>\n",
              "<table border=\"1\" class=\"dataframe\">\n",
              "  <thead>\n",
              "    <tr style=\"text-align: right;\">\n",
              "      <th></th>\n",
              "      <th>customer_id</th>\n",
              "      <th>address</th>\n",
              "      <th>postcode</th>\n",
              "      <th>state</th>\n",
              "      <th>country</th>\n",
              "      <th>property_valuation</th>\n",
              "    </tr>\n",
              "  </thead>\n",
              "  <tbody>\n",
              "    <tr>\n",
              "      <th>0</th>\n",
              "      <td>1</td>\n",
              "      <td>060 Morning Avenue</td>\n",
              "      <td>2016</td>\n",
              "      <td>New South Wales</td>\n",
              "      <td>Australia</td>\n",
              "      <td>10</td>\n",
              "    </tr>\n",
              "    <tr>\n",
              "      <th>1</th>\n",
              "      <td>2</td>\n",
              "      <td>6 Meadow Vale Court</td>\n",
              "      <td>2153</td>\n",
              "      <td>New South Wales</td>\n",
              "      <td>Australia</td>\n",
              "      <td>10</td>\n",
              "    </tr>\n",
              "    <tr>\n",
              "      <th>2</th>\n",
              "      <td>4</td>\n",
              "      <td>0 Holy Cross Court</td>\n",
              "      <td>4211</td>\n",
              "      <td>QLD</td>\n",
              "      <td>Australia</td>\n",
              "      <td>9</td>\n",
              "    </tr>\n",
              "    <tr>\n",
              "      <th>3</th>\n",
              "      <td>5</td>\n",
              "      <td>17979 Del Mar Point</td>\n",
              "      <td>2448</td>\n",
              "      <td>New South Wales</td>\n",
              "      <td>Australia</td>\n",
              "      <td>4</td>\n",
              "    </tr>\n",
              "    <tr>\n",
              "      <th>4</th>\n",
              "      <td>6</td>\n",
              "      <td>9 Oakridge Court</td>\n",
              "      <td>3216</td>\n",
              "      <td>VIC</td>\n",
              "      <td>Australia</td>\n",
              "      <td>9</td>\n",
              "    </tr>\n",
              "  </tbody>\n",
              "</table>\n",
              "</div>"
            ],
            "text/plain": [
              "   customer_id              address  ...    country property_valuation\n",
              "0            1   060 Morning Avenue  ...  Australia                 10\n",
              "1            2  6 Meadow Vale Court  ...  Australia                 10\n",
              "2            4   0 Holy Cross Court  ...  Australia                  9\n",
              "3            5  17979 Del Mar Point  ...  Australia                  4\n",
              "4            6     9 Oakridge Court  ...  Australia                  9\n",
              "\n",
              "[5 rows x 6 columns]"
            ]
          },
          "metadata": {
            "tags": []
          },
          "execution_count": 29
        }
      ]
    },
    {
      "cell_type": "code",
      "metadata": {
        "id": "Iut5XUh9k-5U",
        "colab": {
          "base_uri": "https://localhost:8080/"
        },
        "outputId": "71adc8b2-e1f5-469c-b81f-f3ea46b55f00"
      },
      "source": [
        "CustomerAddress.info()"
      ],
      "execution_count": null,
      "outputs": [
        {
          "output_type": "stream",
          "text": [
            "<class 'pandas.core.frame.DataFrame'>\n",
            "RangeIndex: 3999 entries, 0 to 3998\n",
            "Data columns (total 6 columns):\n",
            " #   Column              Non-Null Count  Dtype \n",
            "---  ------              --------------  ----- \n",
            " 0   customer_id         3999 non-null   int64 \n",
            " 1   address             3999 non-null   object\n",
            " 2   postcode            3999 non-null   int64 \n",
            " 3   state               3999 non-null   object\n",
            " 4   country             3999 non-null   object\n",
            " 5   property_valuation  3999 non-null   int64 \n",
            "dtypes: int64(3), object(3)\n",
            "memory usage: 187.6+ KB\n"
          ],
          "name": "stdout"
        }
      ]
    },
    {
      "cell_type": "markdown",
      "metadata": {
        "id": "gwRFBAwo5hpi"
      },
      "source": [
        "The CustomerAddress dataset looks at the location of a customer. \n",
        "\n",
        "The data seems to have a small abnormality, the 'state' column has some ununiform entries, and also a number of NA entries. "
      ]
    },
    {
      "cell_type": "markdown",
      "metadata": {
        "id": "oDEsjLNn6Bdk"
      },
      "source": [
        "Removing NA entries. "
      ]
    },
    {
      "cell_type": "code",
      "metadata": {
        "id": "4hNnAaedHPU9"
      },
      "source": [
        "CustomerAddress.dropna(axis = 0, how = 'any', inplace= True)"
      ],
      "execution_count": null,
      "outputs": []
    },
    {
      "cell_type": "markdown",
      "metadata": {
        "id": "gvfwTq106Idp"
      },
      "source": [
        "The state column seems to have some ununiform entries."
      ]
    },
    {
      "cell_type": "code",
      "metadata": {
        "id": "pMFYk89NUIhz",
        "colab": {
          "base_uri": "https://localhost:8080/"
        },
        "outputId": "f6a21ce5-1426-4b43-f082-dc00f8f46f4a"
      },
      "source": [
        "set(CustomerAddress['state'])"
      ],
      "execution_count": null,
      "outputs": [
        {
          "output_type": "execute_result",
          "data": {
            "text/plain": [
              "{'NSW', 'New South Wales', 'QLD', 'VIC', 'Victoria'}"
            ]
          },
          "metadata": {
            "tags": []
          },
          "execution_count": 32
        }
      ]
    },
    {
      "cell_type": "code",
      "metadata": {
        "id": "w9b9LM8EUSyr"
      },
      "source": [
        "CustomerAddress.replace({'state' : {'NSW' : 'New South Wales', 'VIC': 'Victoria', 'QLD':'Queensland'}}, inplace= True) #making entries uniform!"
      ],
      "execution_count": null,
      "outputs": []
    },
    {
      "cell_type": "code",
      "metadata": {
        "colab": {
          "base_uri": "https://localhost:8080/",
          "height": 204
        },
        "id": "al2TQCyYddYA",
        "outputId": "cb162120-9fa3-486f-f5a2-8d417aaceb19"
      },
      "source": [
        "CustomerAddress.head()"
      ],
      "execution_count": null,
      "outputs": [
        {
          "output_type": "execute_result",
          "data": {
            "text/html": [
              "<div>\n",
              "<style scoped>\n",
              "    .dataframe tbody tr th:only-of-type {\n",
              "        vertical-align: middle;\n",
              "    }\n",
              "\n",
              "    .dataframe tbody tr th {\n",
              "        vertical-align: top;\n",
              "    }\n",
              "\n",
              "    .dataframe thead th {\n",
              "        text-align: right;\n",
              "    }\n",
              "</style>\n",
              "<table border=\"1\" class=\"dataframe\">\n",
              "  <thead>\n",
              "    <tr style=\"text-align: right;\">\n",
              "      <th></th>\n",
              "      <th>customer_id</th>\n",
              "      <th>address</th>\n",
              "      <th>postcode</th>\n",
              "      <th>state</th>\n",
              "      <th>country</th>\n",
              "      <th>property_valuation</th>\n",
              "    </tr>\n",
              "  </thead>\n",
              "  <tbody>\n",
              "    <tr>\n",
              "      <th>0</th>\n",
              "      <td>1</td>\n",
              "      <td>060 Morning Avenue</td>\n",
              "      <td>2016</td>\n",
              "      <td>New South Wales</td>\n",
              "      <td>Australia</td>\n",
              "      <td>10</td>\n",
              "    </tr>\n",
              "    <tr>\n",
              "      <th>1</th>\n",
              "      <td>2</td>\n",
              "      <td>6 Meadow Vale Court</td>\n",
              "      <td>2153</td>\n",
              "      <td>New South Wales</td>\n",
              "      <td>Australia</td>\n",
              "      <td>10</td>\n",
              "    </tr>\n",
              "    <tr>\n",
              "      <th>2</th>\n",
              "      <td>4</td>\n",
              "      <td>0 Holy Cross Court</td>\n",
              "      <td>4211</td>\n",
              "      <td>Queensland</td>\n",
              "      <td>Australia</td>\n",
              "      <td>9</td>\n",
              "    </tr>\n",
              "    <tr>\n",
              "      <th>3</th>\n",
              "      <td>5</td>\n",
              "      <td>17979 Del Mar Point</td>\n",
              "      <td>2448</td>\n",
              "      <td>New South Wales</td>\n",
              "      <td>Australia</td>\n",
              "      <td>4</td>\n",
              "    </tr>\n",
              "    <tr>\n",
              "      <th>4</th>\n",
              "      <td>6</td>\n",
              "      <td>9 Oakridge Court</td>\n",
              "      <td>3216</td>\n",
              "      <td>Victoria</td>\n",
              "      <td>Australia</td>\n",
              "      <td>9</td>\n",
              "    </tr>\n",
              "  </tbody>\n",
              "</table>\n",
              "</div>"
            ],
            "text/plain": [
              "   customer_id              address  ...    country property_valuation\n",
              "0            1   060 Morning Avenue  ...  Australia                 10\n",
              "1            2  6 Meadow Vale Court  ...  Australia                 10\n",
              "2            4   0 Holy Cross Court  ...  Australia                  9\n",
              "3            5  17979 Del Mar Point  ...  Australia                  4\n",
              "4            6     9 Oakridge Court  ...  Australia                  9\n",
              "\n",
              "[5 rows x 6 columns]"
            ]
          },
          "metadata": {
            "tags": []
          },
          "execution_count": 34
        }
      ]
    },
    {
      "cell_type": "markdown",
      "metadata": {
        "id": "hv0LNCnKks88"
      },
      "source": [
        "## Merge the datasets"
      ]
    },
    {
      "cell_type": "markdown",
      "metadata": {
        "id": "NEYuGWyqmcPv"
      },
      "source": [
        "Merge three datasets, 'Transaction', 'CustomerAddress' and 'CustomerDemographic' into 'Data' inorder to do further comprehend customer attributes. "
      ]
    },
    {
      "cell_type": "code",
      "metadata": {
        "id": "LyoOcMWok148"
      },
      "source": [
        "Data1 = Transactions.merge(CustomerDemographic, on = 'customer_id')"
      ],
      "execution_count": null,
      "outputs": []
    },
    {
      "cell_type": "code",
      "metadata": {
        "colab": {
          "base_uri": "https://localhost:8080/",
          "height": 309
        },
        "id": "ru69R-HcmDTW",
        "outputId": "d4fa428d-1d56-4b4f-e55a-c616ce125e86"
      },
      "source": [
        "Data1.head()"
      ],
      "execution_count": null,
      "outputs": [
        {
          "output_type": "execute_result",
          "data": {
            "text/html": [
              "<div>\n",
              "<style scoped>\n",
              "    .dataframe tbody tr th:only-of-type {\n",
              "        vertical-align: middle;\n",
              "    }\n",
              "\n",
              "    .dataframe tbody tr th {\n",
              "        vertical-align: top;\n",
              "    }\n",
              "\n",
              "    .dataframe thead th {\n",
              "        text-align: right;\n",
              "    }\n",
              "</style>\n",
              "<table border=\"1\" class=\"dataframe\">\n",
              "  <thead>\n",
              "    <tr style=\"text-align: right;\">\n",
              "      <th></th>\n",
              "      <th>transaction_id</th>\n",
              "      <th>product_id</th>\n",
              "      <th>customer_id</th>\n",
              "      <th>transaction_date</th>\n",
              "      <th>online_order</th>\n",
              "      <th>order_status</th>\n",
              "      <th>brand</th>\n",
              "      <th>product_line</th>\n",
              "      <th>product_class</th>\n",
              "      <th>product_size</th>\n",
              "      <th>list_price</th>\n",
              "      <th>standard_cost</th>\n",
              "      <th>product_first_sold_date</th>\n",
              "      <th>first_name</th>\n",
              "      <th>last_name</th>\n",
              "      <th>gender</th>\n",
              "      <th>past_3_years_bike_related_purchases</th>\n",
              "      <th>DOB</th>\n",
              "      <th>Age</th>\n",
              "      <th>job_title</th>\n",
              "      <th>job_industry_category</th>\n",
              "      <th>wealth_segment</th>\n",
              "      <th>deceased_indicator</th>\n",
              "      <th>owns_car</th>\n",
              "      <th>tenure</th>\n",
              "    </tr>\n",
              "  </thead>\n",
              "  <tbody>\n",
              "    <tr>\n",
              "      <th>0</th>\n",
              "      <td>1</td>\n",
              "      <td>2</td>\n",
              "      <td>2950</td>\n",
              "      <td>2017-02-25</td>\n",
              "      <td>0.0</td>\n",
              "      <td>Approved</td>\n",
              "      <td>Solex</td>\n",
              "      <td>Standard</td>\n",
              "      <td>medium</td>\n",
              "      <td>medium</td>\n",
              "      <td>71.49</td>\n",
              "      <td>53.62</td>\n",
              "      <td>2012-12-04</td>\n",
              "      <td>Kristos</td>\n",
              "      <td>Anthony</td>\n",
              "      <td>Male</td>\n",
              "      <td>19</td>\n",
              "      <td>1955-01-11</td>\n",
              "      <td>66</td>\n",
              "      <td>Software Engineer I</td>\n",
              "      <td>Financial Services</td>\n",
              "      <td>Mass Customer</td>\n",
              "      <td>N</td>\n",
              "      <td>Yes</td>\n",
              "      <td>10.0</td>\n",
              "    </tr>\n",
              "    <tr>\n",
              "      <th>1</th>\n",
              "      <td>11065</td>\n",
              "      <td>1</td>\n",
              "      <td>2950</td>\n",
              "      <td>2017-10-16</td>\n",
              "      <td>0.0</td>\n",
              "      <td>Approved</td>\n",
              "      <td>Giant Bicycles</td>\n",
              "      <td>Standard</td>\n",
              "      <td>medium</td>\n",
              "      <td>medium</td>\n",
              "      <td>1403.50</td>\n",
              "      <td>954.82</td>\n",
              "      <td>2003-02-09</td>\n",
              "      <td>Kristos</td>\n",
              "      <td>Anthony</td>\n",
              "      <td>Male</td>\n",
              "      <td>19</td>\n",
              "      <td>1955-01-11</td>\n",
              "      <td>66</td>\n",
              "      <td>Software Engineer I</td>\n",
              "      <td>Financial Services</td>\n",
              "      <td>Mass Customer</td>\n",
              "      <td>N</td>\n",
              "      <td>Yes</td>\n",
              "      <td>10.0</td>\n",
              "    </tr>\n",
              "    <tr>\n",
              "      <th>2</th>\n",
              "      <td>18923</td>\n",
              "      <td>62</td>\n",
              "      <td>2950</td>\n",
              "      <td>2017-04-26</td>\n",
              "      <td>0.0</td>\n",
              "      <td>Approved</td>\n",
              "      <td>Solex</td>\n",
              "      <td>Standard</td>\n",
              "      <td>medium</td>\n",
              "      <td>medium</td>\n",
              "      <td>478.16</td>\n",
              "      <td>298.72</td>\n",
              "      <td>2010-11-07</td>\n",
              "      <td>Kristos</td>\n",
              "      <td>Anthony</td>\n",
              "      <td>Male</td>\n",
              "      <td>19</td>\n",
              "      <td>1955-01-11</td>\n",
              "      <td>66</td>\n",
              "      <td>Software Engineer I</td>\n",
              "      <td>Financial Services</td>\n",
              "      <td>Mass Customer</td>\n",
              "      <td>N</td>\n",
              "      <td>Yes</td>\n",
              "      <td>10.0</td>\n",
              "    </tr>\n",
              "    <tr>\n",
              "      <th>3</th>\n",
              "      <td>2</td>\n",
              "      <td>3</td>\n",
              "      <td>3120</td>\n",
              "      <td>2017-05-21</td>\n",
              "      <td>1.0</td>\n",
              "      <td>Approved</td>\n",
              "      <td>Trek Bicycles</td>\n",
              "      <td>Standard</td>\n",
              "      <td>medium</td>\n",
              "      <td>large</td>\n",
              "      <td>2091.47</td>\n",
              "      <td>388.92</td>\n",
              "      <td>2014-03-05</td>\n",
              "      <td>Lauree</td>\n",
              "      <td>O'Donnell</td>\n",
              "      <td>Female</td>\n",
              "      <td>89</td>\n",
              "      <td>1979-02-04</td>\n",
              "      <td>42</td>\n",
              "      <td>Clinical Specialist</td>\n",
              "      <td>Health</td>\n",
              "      <td>Mass Customer</td>\n",
              "      <td>N</td>\n",
              "      <td>Yes</td>\n",
              "      <td>10.0</td>\n",
              "    </tr>\n",
              "    <tr>\n",
              "      <th>4</th>\n",
              "      <td>6862</td>\n",
              "      <td>4</td>\n",
              "      <td>3120</td>\n",
              "      <td>2017-10-05</td>\n",
              "      <td>0.0</td>\n",
              "      <td>Approved</td>\n",
              "      <td>Giant Bicycles</td>\n",
              "      <td>Standard</td>\n",
              "      <td>high</td>\n",
              "      <td>medium</td>\n",
              "      <td>1129.13</td>\n",
              "      <td>677.48</td>\n",
              "      <td>2011-04-18</td>\n",
              "      <td>Lauree</td>\n",
              "      <td>O'Donnell</td>\n",
              "      <td>Female</td>\n",
              "      <td>89</td>\n",
              "      <td>1979-02-04</td>\n",
              "      <td>42</td>\n",
              "      <td>Clinical Specialist</td>\n",
              "      <td>Health</td>\n",
              "      <td>Mass Customer</td>\n",
              "      <td>N</td>\n",
              "      <td>Yes</td>\n",
              "      <td>10.0</td>\n",
              "    </tr>\n",
              "  </tbody>\n",
              "</table>\n",
              "</div>"
            ],
            "text/plain": [
              "   transaction_id  product_id  customer_id  ... deceased_indicator  owns_car tenure\n",
              "0               1           2         2950  ...                  N       Yes   10.0\n",
              "1           11065           1         2950  ...                  N       Yes   10.0\n",
              "2           18923          62         2950  ...                  N       Yes   10.0\n",
              "3               2           3         3120  ...                  N       Yes   10.0\n",
              "4            6862           4         3120  ...                  N       Yes   10.0\n",
              "\n",
              "[5 rows x 25 columns]"
            ]
          },
          "metadata": {
            "tags": []
          },
          "execution_count": 36
        }
      ]
    },
    {
      "cell_type": "code",
      "metadata": {
        "id": "lnwUsVDTo5k5"
      },
      "source": [
        "Data = Data1.merge(CustomerAddress, on = 'customer_id')"
      ],
      "execution_count": null,
      "outputs": []
    },
    {
      "cell_type": "code",
      "metadata": {
        "colab": {
          "base_uri": "https://localhost:8080/",
          "height": 394
        },
        "id": "lQ9ltEbYpxqR",
        "outputId": "87df4e2b-0e0a-4c26-f517-5def0f7484ad"
      },
      "source": [
        "Data.head()"
      ],
      "execution_count": null,
      "outputs": [
        {
          "output_type": "execute_result",
          "data": {
            "text/html": [
              "<div>\n",
              "<style scoped>\n",
              "    .dataframe tbody tr th:only-of-type {\n",
              "        vertical-align: middle;\n",
              "    }\n",
              "\n",
              "    .dataframe tbody tr th {\n",
              "        vertical-align: top;\n",
              "    }\n",
              "\n",
              "    .dataframe thead th {\n",
              "        text-align: right;\n",
              "    }\n",
              "</style>\n",
              "<table border=\"1\" class=\"dataframe\">\n",
              "  <thead>\n",
              "    <tr style=\"text-align: right;\">\n",
              "      <th></th>\n",
              "      <th>transaction_id</th>\n",
              "      <th>product_id</th>\n",
              "      <th>customer_id</th>\n",
              "      <th>transaction_date</th>\n",
              "      <th>online_order</th>\n",
              "      <th>order_status</th>\n",
              "      <th>brand</th>\n",
              "      <th>product_line</th>\n",
              "      <th>product_class</th>\n",
              "      <th>product_size</th>\n",
              "      <th>list_price</th>\n",
              "      <th>standard_cost</th>\n",
              "      <th>product_first_sold_date</th>\n",
              "      <th>first_name</th>\n",
              "      <th>last_name</th>\n",
              "      <th>gender</th>\n",
              "      <th>past_3_years_bike_related_purchases</th>\n",
              "      <th>DOB</th>\n",
              "      <th>Age</th>\n",
              "      <th>job_title</th>\n",
              "      <th>job_industry_category</th>\n",
              "      <th>wealth_segment</th>\n",
              "      <th>deceased_indicator</th>\n",
              "      <th>owns_car</th>\n",
              "      <th>tenure</th>\n",
              "      <th>address</th>\n",
              "      <th>postcode</th>\n",
              "      <th>state</th>\n",
              "      <th>country</th>\n",
              "      <th>property_valuation</th>\n",
              "    </tr>\n",
              "  </thead>\n",
              "  <tbody>\n",
              "    <tr>\n",
              "      <th>0</th>\n",
              "      <td>1</td>\n",
              "      <td>2</td>\n",
              "      <td>2950</td>\n",
              "      <td>2017-02-25</td>\n",
              "      <td>0.0</td>\n",
              "      <td>Approved</td>\n",
              "      <td>Solex</td>\n",
              "      <td>Standard</td>\n",
              "      <td>medium</td>\n",
              "      <td>medium</td>\n",
              "      <td>71.49</td>\n",
              "      <td>53.62</td>\n",
              "      <td>2012-12-04</td>\n",
              "      <td>Kristos</td>\n",
              "      <td>Anthony</td>\n",
              "      <td>Male</td>\n",
              "      <td>19</td>\n",
              "      <td>1955-01-11</td>\n",
              "      <td>66</td>\n",
              "      <td>Software Engineer I</td>\n",
              "      <td>Financial Services</td>\n",
              "      <td>Mass Customer</td>\n",
              "      <td>N</td>\n",
              "      <td>Yes</td>\n",
              "      <td>10.0</td>\n",
              "      <td>984 Hoepker Court</td>\n",
              "      <td>3064</td>\n",
              "      <td>Victoria</td>\n",
              "      <td>Australia</td>\n",
              "      <td>6</td>\n",
              "    </tr>\n",
              "    <tr>\n",
              "      <th>1</th>\n",
              "      <td>11065</td>\n",
              "      <td>1</td>\n",
              "      <td>2950</td>\n",
              "      <td>2017-10-16</td>\n",
              "      <td>0.0</td>\n",
              "      <td>Approved</td>\n",
              "      <td>Giant Bicycles</td>\n",
              "      <td>Standard</td>\n",
              "      <td>medium</td>\n",
              "      <td>medium</td>\n",
              "      <td>1403.50</td>\n",
              "      <td>954.82</td>\n",
              "      <td>2003-02-09</td>\n",
              "      <td>Kristos</td>\n",
              "      <td>Anthony</td>\n",
              "      <td>Male</td>\n",
              "      <td>19</td>\n",
              "      <td>1955-01-11</td>\n",
              "      <td>66</td>\n",
              "      <td>Software Engineer I</td>\n",
              "      <td>Financial Services</td>\n",
              "      <td>Mass Customer</td>\n",
              "      <td>N</td>\n",
              "      <td>Yes</td>\n",
              "      <td>10.0</td>\n",
              "      <td>984 Hoepker Court</td>\n",
              "      <td>3064</td>\n",
              "      <td>Victoria</td>\n",
              "      <td>Australia</td>\n",
              "      <td>6</td>\n",
              "    </tr>\n",
              "    <tr>\n",
              "      <th>2</th>\n",
              "      <td>18923</td>\n",
              "      <td>62</td>\n",
              "      <td>2950</td>\n",
              "      <td>2017-04-26</td>\n",
              "      <td>0.0</td>\n",
              "      <td>Approved</td>\n",
              "      <td>Solex</td>\n",
              "      <td>Standard</td>\n",
              "      <td>medium</td>\n",
              "      <td>medium</td>\n",
              "      <td>478.16</td>\n",
              "      <td>298.72</td>\n",
              "      <td>2010-11-07</td>\n",
              "      <td>Kristos</td>\n",
              "      <td>Anthony</td>\n",
              "      <td>Male</td>\n",
              "      <td>19</td>\n",
              "      <td>1955-01-11</td>\n",
              "      <td>66</td>\n",
              "      <td>Software Engineer I</td>\n",
              "      <td>Financial Services</td>\n",
              "      <td>Mass Customer</td>\n",
              "      <td>N</td>\n",
              "      <td>Yes</td>\n",
              "      <td>10.0</td>\n",
              "      <td>984 Hoepker Court</td>\n",
              "      <td>3064</td>\n",
              "      <td>Victoria</td>\n",
              "      <td>Australia</td>\n",
              "      <td>6</td>\n",
              "    </tr>\n",
              "    <tr>\n",
              "      <th>3</th>\n",
              "      <td>2</td>\n",
              "      <td>3</td>\n",
              "      <td>3120</td>\n",
              "      <td>2017-05-21</td>\n",
              "      <td>1.0</td>\n",
              "      <td>Approved</td>\n",
              "      <td>Trek Bicycles</td>\n",
              "      <td>Standard</td>\n",
              "      <td>medium</td>\n",
              "      <td>large</td>\n",
              "      <td>2091.47</td>\n",
              "      <td>388.92</td>\n",
              "      <td>2014-03-05</td>\n",
              "      <td>Lauree</td>\n",
              "      <td>O'Donnell</td>\n",
              "      <td>Female</td>\n",
              "      <td>89</td>\n",
              "      <td>1979-02-04</td>\n",
              "      <td>42</td>\n",
              "      <td>Clinical Specialist</td>\n",
              "      <td>Health</td>\n",
              "      <td>Mass Customer</td>\n",
              "      <td>N</td>\n",
              "      <td>Yes</td>\n",
              "      <td>10.0</td>\n",
              "      <td>4 Shopko Circle</td>\n",
              "      <td>2196</td>\n",
              "      <td>New South Wales</td>\n",
              "      <td>Australia</td>\n",
              "      <td>5</td>\n",
              "    </tr>\n",
              "    <tr>\n",
              "      <th>4</th>\n",
              "      <td>6862</td>\n",
              "      <td>4</td>\n",
              "      <td>3120</td>\n",
              "      <td>2017-10-05</td>\n",
              "      <td>0.0</td>\n",
              "      <td>Approved</td>\n",
              "      <td>Giant Bicycles</td>\n",
              "      <td>Standard</td>\n",
              "      <td>high</td>\n",
              "      <td>medium</td>\n",
              "      <td>1129.13</td>\n",
              "      <td>677.48</td>\n",
              "      <td>2011-04-18</td>\n",
              "      <td>Lauree</td>\n",
              "      <td>O'Donnell</td>\n",
              "      <td>Female</td>\n",
              "      <td>89</td>\n",
              "      <td>1979-02-04</td>\n",
              "      <td>42</td>\n",
              "      <td>Clinical Specialist</td>\n",
              "      <td>Health</td>\n",
              "      <td>Mass Customer</td>\n",
              "      <td>N</td>\n",
              "      <td>Yes</td>\n",
              "      <td>10.0</td>\n",
              "      <td>4 Shopko Circle</td>\n",
              "      <td>2196</td>\n",
              "      <td>New South Wales</td>\n",
              "      <td>Australia</td>\n",
              "      <td>5</td>\n",
              "    </tr>\n",
              "  </tbody>\n",
              "</table>\n",
              "</div>"
            ],
            "text/plain": [
              "   transaction_id  product_id  ...    country property_valuation\n",
              "0               1           2  ...  Australia                  6\n",
              "1           11065           1  ...  Australia                  6\n",
              "2           18923          62  ...  Australia                  6\n",
              "3               2           3  ...  Australia                  5\n",
              "4            6862           4  ...  Australia                  5\n",
              "\n",
              "[5 rows x 30 columns]"
            ]
          },
          "metadata": {
            "tags": []
          },
          "execution_count": 38
        }
      ]
    },
    {
      "cell_type": "code",
      "metadata": {
        "colab": {
          "base_uri": "https://localhost:8080/"
        },
        "id": "qV_-QQZQbN9V",
        "outputId": "b23498bc-779d-432f-d3f1-e29abbb8f3ad"
      },
      "source": [
        "Data.info()"
      ],
      "execution_count": null,
      "outputs": [
        {
          "output_type": "stream",
          "text": [
            "<class 'pandas.core.frame.DataFrame'>\n",
            "Int64Index: 13628 entries, 0 to 13627\n",
            "Data columns (total 30 columns):\n",
            " #   Column                               Non-Null Count  Dtype         \n",
            "---  ------                               --------------  -----         \n",
            " 0   transaction_id                       13628 non-null  int64         \n",
            " 1   product_id                           13628 non-null  int64         \n",
            " 2   customer_id                          13628 non-null  int64         \n",
            " 3   transaction_date                     13628 non-null  datetime64[ns]\n",
            " 4   online_order                         13628 non-null  float64       \n",
            " 5   order_status                         13628 non-null  object        \n",
            " 6   brand                                13628 non-null  object        \n",
            " 7   product_line                         13628 non-null  object        \n",
            " 8   product_class                        13628 non-null  object        \n",
            " 9   product_size                         13628 non-null  object        \n",
            " 10  list_price                           13628 non-null  float64       \n",
            " 11  standard_cost                        13628 non-null  float64       \n",
            " 12  product_first_sold_date              13628 non-null  datetime64[ns]\n",
            " 13  first_name                           13628 non-null  object        \n",
            " 14  last_name                            13628 non-null  object        \n",
            " 15  gender                               13628 non-null  object        \n",
            " 16  past_3_years_bike_related_purchases  13628 non-null  int64         \n",
            " 17  DOB                                  13628 non-null  datetime64[ns]\n",
            " 18  Age                                  13628 non-null  int64         \n",
            " 19  job_title                            13628 non-null  object        \n",
            " 20  job_industry_category                13628 non-null  object        \n",
            " 21  wealth_segment                       13628 non-null  object        \n",
            " 22  deceased_indicator                   13628 non-null  object        \n",
            " 23  owns_car                             13628 non-null  object        \n",
            " 24  tenure                               13628 non-null  float64       \n",
            " 25  address                              13628 non-null  object        \n",
            " 26  postcode                             13628 non-null  int64         \n",
            " 27  state                                13628 non-null  object        \n",
            " 28  country                              13628 non-null  object        \n",
            " 29  property_valuation                   13628 non-null  int64         \n",
            "dtypes: datetime64[ns](3), float64(4), int64(7), object(16)\n",
            "memory usage: 3.2+ MB\n"
          ],
          "name": "stdout"
        }
      ]
    },
    {
      "cell_type": "code",
      "metadata": {
        "id": "iCnlVrkGqGRQ"
      },
      "source": [
        "Data.to_excel('Final_Data.xlsx', sheet_name = 'Merged_Data')"
      ],
      "execution_count": null,
      "outputs": []
    },
    {
      "cell_type": "code",
      "metadata": {
        "colab": {
          "base_uri": "https://localhost:8080/",
          "height": 317
        },
        "id": "5-ZFj6vsbZu9",
        "outputId": "a2b39bd1-2138-472f-96b3-f75ae25d8a02"
      },
      "source": [
        "Data.describe()"
      ],
      "execution_count": null,
      "outputs": [
        {
          "output_type": "execute_result",
          "data": {
            "text/html": [
              "<div>\n",
              "<style scoped>\n",
              "    .dataframe tbody tr th:only-of-type {\n",
              "        vertical-align: middle;\n",
              "    }\n",
              "\n",
              "    .dataframe tbody tr th {\n",
              "        vertical-align: top;\n",
              "    }\n",
              "\n",
              "    .dataframe thead th {\n",
              "        text-align: right;\n",
              "    }\n",
              "</style>\n",
              "<table border=\"1\" class=\"dataframe\">\n",
              "  <thead>\n",
              "    <tr style=\"text-align: right;\">\n",
              "      <th></th>\n",
              "      <th>transaction_id</th>\n",
              "      <th>product_id</th>\n",
              "      <th>customer_id</th>\n",
              "      <th>online_order</th>\n",
              "      <th>list_price</th>\n",
              "      <th>standard_cost</th>\n",
              "      <th>past_3_years_bike_related_purchases</th>\n",
              "      <th>Age</th>\n",
              "      <th>tenure</th>\n",
              "      <th>postcode</th>\n",
              "      <th>property_valuation</th>\n",
              "    </tr>\n",
              "  </thead>\n",
              "  <tbody>\n",
              "    <tr>\n",
              "      <th>count</th>\n",
              "      <td>13628.000000</td>\n",
              "      <td>13628.000000</td>\n",
              "      <td>13628.000000</td>\n",
              "      <td>13628.000000</td>\n",
              "      <td>13628.000000</td>\n",
              "      <td>13628.000000</td>\n",
              "      <td>13628.000000</td>\n",
              "      <td>13628.000000</td>\n",
              "      <td>13628.000000</td>\n",
              "      <td>13628.000000</td>\n",
              "      <td>13628.000000</td>\n",
              "    </tr>\n",
              "    <tr>\n",
              "      <th>mean</th>\n",
              "      <td>10005.906810</td>\n",
              "      <td>45.600602</td>\n",
              "      <td>1715.722483</td>\n",
              "      <td>0.499560</td>\n",
              "      <td>1110.136508</td>\n",
              "      <td>557.915940</td>\n",
              "      <td>49.495451</td>\n",
              "      <td>43.800925</td>\n",
              "      <td>10.739287</td>\n",
              "      <td>2998.708174</td>\n",
              "      <td>7.474391</td>\n",
              "    </tr>\n",
              "    <tr>\n",
              "      <th>std</th>\n",
              "      <td>5768.982289</td>\n",
              "      <td>30.496613</td>\n",
              "      <td>1010.437800</td>\n",
              "      <td>0.500018</td>\n",
              "      <td>584.296826</td>\n",
              "      <td>408.559282</td>\n",
              "      <td>28.599635</td>\n",
              "      <td>12.535210</td>\n",
              "      <td>5.669325</td>\n",
              "      <td>859.520660</td>\n",
              "      <td>2.843436</td>\n",
              "    </tr>\n",
              "    <tr>\n",
              "      <th>min</th>\n",
              "      <td>1.000000</td>\n",
              "      <td>0.000000</td>\n",
              "      <td>1.000000</td>\n",
              "      <td>0.000000</td>\n",
              "      <td>12.010000</td>\n",
              "      <td>7.210000</td>\n",
              "      <td>0.000000</td>\n",
              "      <td>19.000000</td>\n",
              "      <td>1.000000</td>\n",
              "      <td>2000.000000</td>\n",
              "      <td>1.000000</td>\n",
              "    </tr>\n",
              "    <tr>\n",
              "      <th>25%</th>\n",
              "      <td>5035.750000</td>\n",
              "      <td>18.000000</td>\n",
              "      <td>829.000000</td>\n",
              "      <td>0.000000</td>\n",
              "      <td>575.270000</td>\n",
              "      <td>215.140000</td>\n",
              "      <td>25.000000</td>\n",
              "      <td>34.000000</td>\n",
              "      <td>6.000000</td>\n",
              "      <td>2197.000000</td>\n",
              "      <td>6.000000</td>\n",
              "    </tr>\n",
              "    <tr>\n",
              "      <th>50%</th>\n",
              "      <td>9999.500000</td>\n",
              "      <td>44.000000</td>\n",
              "      <td>1715.500000</td>\n",
              "      <td>0.000000</td>\n",
              "      <td>1163.890000</td>\n",
              "      <td>507.580000</td>\n",
              "      <td>48.000000</td>\n",
              "      <td>44.000000</td>\n",
              "      <td>11.000000</td>\n",
              "      <td>2768.000000</td>\n",
              "      <td>8.000000</td>\n",
              "    </tr>\n",
              "    <tr>\n",
              "      <th>75%</th>\n",
              "      <td>14989.250000</td>\n",
              "      <td>72.000000</td>\n",
              "      <td>2583.000000</td>\n",
              "      <td>1.000000</td>\n",
              "      <td>1635.300000</td>\n",
              "      <td>795.100000</td>\n",
              "      <td>74.000000</td>\n",
              "      <td>53.000000</td>\n",
              "      <td>16.000000</td>\n",
              "      <td>3796.750000</td>\n",
              "      <td>10.000000</td>\n",
              "    </tr>\n",
              "    <tr>\n",
              "      <th>max</th>\n",
              "      <td>20000.000000</td>\n",
              "      <td>100.000000</td>\n",
              "      <td>3497.000000</td>\n",
              "      <td>1.000000</td>\n",
              "      <td>2091.470000</td>\n",
              "      <td>1759.850000</td>\n",
              "      <td>99.000000</td>\n",
              "      <td>90.000000</td>\n",
              "      <td>22.000000</td>\n",
              "      <td>4883.000000</td>\n",
              "      <td>12.000000</td>\n",
              "    </tr>\n",
              "  </tbody>\n",
              "</table>\n",
              "</div>"
            ],
            "text/plain": [
              "       transaction_id    product_id  ...      postcode  property_valuation\n",
              "count    13628.000000  13628.000000  ...  13628.000000        13628.000000\n",
              "mean     10005.906810     45.600602  ...   2998.708174            7.474391\n",
              "std       5768.982289     30.496613  ...    859.520660            2.843436\n",
              "min          1.000000      0.000000  ...   2000.000000            1.000000\n",
              "25%       5035.750000     18.000000  ...   2197.000000            6.000000\n",
              "50%       9999.500000     44.000000  ...   2768.000000            8.000000\n",
              "75%      14989.250000     72.000000  ...   3796.750000           10.000000\n",
              "max      20000.000000    100.000000  ...   4883.000000           12.000000\n",
              "\n",
              "[8 rows x 11 columns]"
            ]
          },
          "metadata": {
            "tags": []
          },
          "execution_count": 40
        }
      ]
    },
    {
      "cell_type": "markdown",
      "metadata": {
        "id": "AO5JK5zzPvIW"
      },
      "source": [
        "# Task 2: Data Insights"
      ]
    },
    {
      "cell_type": "markdown",
      "metadata": {
        "id": "G2kAu_-ZYBmE"
      },
      "source": [
        "Load the data from the previous task, (which is saved as Data)"
      ]
    },
    {
      "cell_type": "markdown",
      "metadata": {
        "id": "41pXHB84oZLS"
      },
      "source": [
        "Add a 'Profit' column inorder to calculate motentary value for RFM analysis. "
      ]
    },
    {
      "cell_type": "code",
      "metadata": {
        "id": "_BNKRdulYSeN"
      },
      "source": [
        "Data['Profit'] = Data['list_price'] - Data['standard_cost']"
      ],
      "execution_count": null,
      "outputs": []
    },
    {
      "cell_type": "code",
      "metadata": {
        "colab": {
          "base_uri": "https://localhost:8080/"
        },
        "id": "5lIYR-S7mt36",
        "outputId": "e9d7cec1-5e8b-475a-aa06-77412ed47fdd"
      },
      "source": [
        "max(Data['transaction_date'])"
      ],
      "execution_count": null,
      "outputs": [
        {
          "output_type": "execute_result",
          "data": {
            "text/plain": [
              "Timestamp('2017-12-30 00:00:00')"
            ]
          },
          "metadata": {
            "tags": []
          },
          "execution_count": 42
        }
      ]
    },
    {
      "cell_type": "code",
      "metadata": {
        "id": "r9j-QKr-nK5C"
      },
      "source": [
        "Data[\"Recency\"] = (max(Data['transaction_date']) - Data['transaction_date']).dt.days"
      ],
      "execution_count": null,
      "outputs": []
    },
    {
      "cell_type": "code",
      "metadata": {
        "colab": {
          "base_uri": "https://localhost:8080/"
        },
        "id": "gD_rLELqnllE",
        "outputId": "d93f9d94-074b-4f26-8477-af08776de8ac"
      },
      "source": [
        "Data['Recency'].describe()"
      ],
      "execution_count": null,
      "outputs": [
        {
          "output_type": "execute_result",
          "data": {
            "text/plain": [
              "count    13628.000000\n",
              "mean       181.392941\n",
              "std        105.577367\n",
              "min          0.000000\n",
              "25%         88.000000\n",
              "50%        181.000000\n",
              "75%        273.000000\n",
              "max        363.000000\n",
              "Name: Recency, dtype: float64"
            ]
          },
          "metadata": {
            "tags": []
          },
          "execution_count": 44
        }
      ]
    },
    {
      "cell_type": "code",
      "metadata": {
        "id": "fbCzHXeNP1AH",
        "colab": {
          "base_uri": "https://localhost:8080/",
          "height": 394
        },
        "outputId": "6b06256e-f0ce-4e29-ae0a-8f77a84bdd34"
      },
      "source": [
        "Data.head()"
      ],
      "execution_count": null,
      "outputs": [
        {
          "output_type": "execute_result",
          "data": {
            "text/html": [
              "<div>\n",
              "<style scoped>\n",
              "    .dataframe tbody tr th:only-of-type {\n",
              "        vertical-align: middle;\n",
              "    }\n",
              "\n",
              "    .dataframe tbody tr th {\n",
              "        vertical-align: top;\n",
              "    }\n",
              "\n",
              "    .dataframe thead th {\n",
              "        text-align: right;\n",
              "    }\n",
              "</style>\n",
              "<table border=\"1\" class=\"dataframe\">\n",
              "  <thead>\n",
              "    <tr style=\"text-align: right;\">\n",
              "      <th></th>\n",
              "      <th>transaction_id</th>\n",
              "      <th>product_id</th>\n",
              "      <th>customer_id</th>\n",
              "      <th>transaction_date</th>\n",
              "      <th>online_order</th>\n",
              "      <th>order_status</th>\n",
              "      <th>brand</th>\n",
              "      <th>product_line</th>\n",
              "      <th>product_class</th>\n",
              "      <th>product_size</th>\n",
              "      <th>list_price</th>\n",
              "      <th>standard_cost</th>\n",
              "      <th>product_first_sold_date</th>\n",
              "      <th>first_name</th>\n",
              "      <th>last_name</th>\n",
              "      <th>gender</th>\n",
              "      <th>past_3_years_bike_related_purchases</th>\n",
              "      <th>DOB</th>\n",
              "      <th>Age</th>\n",
              "      <th>job_title</th>\n",
              "      <th>job_industry_category</th>\n",
              "      <th>wealth_segment</th>\n",
              "      <th>deceased_indicator</th>\n",
              "      <th>owns_car</th>\n",
              "      <th>tenure</th>\n",
              "      <th>address</th>\n",
              "      <th>postcode</th>\n",
              "      <th>state</th>\n",
              "      <th>country</th>\n",
              "      <th>property_valuation</th>\n",
              "      <th>Profit</th>\n",
              "      <th>Recency</th>\n",
              "    </tr>\n",
              "  </thead>\n",
              "  <tbody>\n",
              "    <tr>\n",
              "      <th>0</th>\n",
              "      <td>1</td>\n",
              "      <td>2</td>\n",
              "      <td>2950</td>\n",
              "      <td>2017-02-25</td>\n",
              "      <td>0.0</td>\n",
              "      <td>Approved</td>\n",
              "      <td>Solex</td>\n",
              "      <td>Standard</td>\n",
              "      <td>medium</td>\n",
              "      <td>medium</td>\n",
              "      <td>71.49</td>\n",
              "      <td>53.62</td>\n",
              "      <td>2012-12-04</td>\n",
              "      <td>Kristos</td>\n",
              "      <td>Anthony</td>\n",
              "      <td>Male</td>\n",
              "      <td>19</td>\n",
              "      <td>1955-01-11</td>\n",
              "      <td>66</td>\n",
              "      <td>Software Engineer I</td>\n",
              "      <td>Financial Services</td>\n",
              "      <td>Mass Customer</td>\n",
              "      <td>N</td>\n",
              "      <td>Yes</td>\n",
              "      <td>10.0</td>\n",
              "      <td>984 Hoepker Court</td>\n",
              "      <td>3064</td>\n",
              "      <td>Victoria</td>\n",
              "      <td>Australia</td>\n",
              "      <td>6</td>\n",
              "      <td>17.87</td>\n",
              "      <td>308</td>\n",
              "    </tr>\n",
              "    <tr>\n",
              "      <th>1</th>\n",
              "      <td>11065</td>\n",
              "      <td>1</td>\n",
              "      <td>2950</td>\n",
              "      <td>2017-10-16</td>\n",
              "      <td>0.0</td>\n",
              "      <td>Approved</td>\n",
              "      <td>Giant Bicycles</td>\n",
              "      <td>Standard</td>\n",
              "      <td>medium</td>\n",
              "      <td>medium</td>\n",
              "      <td>1403.50</td>\n",
              "      <td>954.82</td>\n",
              "      <td>2003-02-09</td>\n",
              "      <td>Kristos</td>\n",
              "      <td>Anthony</td>\n",
              "      <td>Male</td>\n",
              "      <td>19</td>\n",
              "      <td>1955-01-11</td>\n",
              "      <td>66</td>\n",
              "      <td>Software Engineer I</td>\n",
              "      <td>Financial Services</td>\n",
              "      <td>Mass Customer</td>\n",
              "      <td>N</td>\n",
              "      <td>Yes</td>\n",
              "      <td>10.0</td>\n",
              "      <td>984 Hoepker Court</td>\n",
              "      <td>3064</td>\n",
              "      <td>Victoria</td>\n",
              "      <td>Australia</td>\n",
              "      <td>6</td>\n",
              "      <td>448.68</td>\n",
              "      <td>75</td>\n",
              "    </tr>\n",
              "    <tr>\n",
              "      <th>2</th>\n",
              "      <td>18923</td>\n",
              "      <td>62</td>\n",
              "      <td>2950</td>\n",
              "      <td>2017-04-26</td>\n",
              "      <td>0.0</td>\n",
              "      <td>Approved</td>\n",
              "      <td>Solex</td>\n",
              "      <td>Standard</td>\n",
              "      <td>medium</td>\n",
              "      <td>medium</td>\n",
              "      <td>478.16</td>\n",
              "      <td>298.72</td>\n",
              "      <td>2010-11-07</td>\n",
              "      <td>Kristos</td>\n",
              "      <td>Anthony</td>\n",
              "      <td>Male</td>\n",
              "      <td>19</td>\n",
              "      <td>1955-01-11</td>\n",
              "      <td>66</td>\n",
              "      <td>Software Engineer I</td>\n",
              "      <td>Financial Services</td>\n",
              "      <td>Mass Customer</td>\n",
              "      <td>N</td>\n",
              "      <td>Yes</td>\n",
              "      <td>10.0</td>\n",
              "      <td>984 Hoepker Court</td>\n",
              "      <td>3064</td>\n",
              "      <td>Victoria</td>\n",
              "      <td>Australia</td>\n",
              "      <td>6</td>\n",
              "      <td>179.44</td>\n",
              "      <td>248</td>\n",
              "    </tr>\n",
              "    <tr>\n",
              "      <th>3</th>\n",
              "      <td>2</td>\n",
              "      <td>3</td>\n",
              "      <td>3120</td>\n",
              "      <td>2017-05-21</td>\n",
              "      <td>1.0</td>\n",
              "      <td>Approved</td>\n",
              "      <td>Trek Bicycles</td>\n",
              "      <td>Standard</td>\n",
              "      <td>medium</td>\n",
              "      <td>large</td>\n",
              "      <td>2091.47</td>\n",
              "      <td>388.92</td>\n",
              "      <td>2014-03-05</td>\n",
              "      <td>Lauree</td>\n",
              "      <td>O'Donnell</td>\n",
              "      <td>Female</td>\n",
              "      <td>89</td>\n",
              "      <td>1979-02-04</td>\n",
              "      <td>42</td>\n",
              "      <td>Clinical Specialist</td>\n",
              "      <td>Health</td>\n",
              "      <td>Mass Customer</td>\n",
              "      <td>N</td>\n",
              "      <td>Yes</td>\n",
              "      <td>10.0</td>\n",
              "      <td>4 Shopko Circle</td>\n",
              "      <td>2196</td>\n",
              "      <td>New South Wales</td>\n",
              "      <td>Australia</td>\n",
              "      <td>5</td>\n",
              "      <td>1702.55</td>\n",
              "      <td>223</td>\n",
              "    </tr>\n",
              "    <tr>\n",
              "      <th>4</th>\n",
              "      <td>6862</td>\n",
              "      <td>4</td>\n",
              "      <td>3120</td>\n",
              "      <td>2017-10-05</td>\n",
              "      <td>0.0</td>\n",
              "      <td>Approved</td>\n",
              "      <td>Giant Bicycles</td>\n",
              "      <td>Standard</td>\n",
              "      <td>high</td>\n",
              "      <td>medium</td>\n",
              "      <td>1129.13</td>\n",
              "      <td>677.48</td>\n",
              "      <td>2011-04-18</td>\n",
              "      <td>Lauree</td>\n",
              "      <td>O'Donnell</td>\n",
              "      <td>Female</td>\n",
              "      <td>89</td>\n",
              "      <td>1979-02-04</td>\n",
              "      <td>42</td>\n",
              "      <td>Clinical Specialist</td>\n",
              "      <td>Health</td>\n",
              "      <td>Mass Customer</td>\n",
              "      <td>N</td>\n",
              "      <td>Yes</td>\n",
              "      <td>10.0</td>\n",
              "      <td>4 Shopko Circle</td>\n",
              "      <td>2196</td>\n",
              "      <td>New South Wales</td>\n",
              "      <td>Australia</td>\n",
              "      <td>5</td>\n",
              "      <td>451.65</td>\n",
              "      <td>86</td>\n",
              "    </tr>\n",
              "  </tbody>\n",
              "</table>\n",
              "</div>"
            ],
            "text/plain": [
              "   transaction_id  product_id  ...   Profit Recency\n",
              "0               1           2  ...    17.87     308\n",
              "1           11065           1  ...   448.68      75\n",
              "2           18923          62  ...   179.44     248\n",
              "3               2           3  ...  1702.55     223\n",
              "4            6862           4  ...   451.65      86\n",
              "\n",
              "[5 rows x 32 columns]"
            ]
          },
          "metadata": {
            "tags": []
          },
          "execution_count": 45
        }
      ]
    },
    {
      "cell_type": "code",
      "metadata": {
        "id": "mxMIij9Jn6RS"
      },
      "source": [
        "R_min = Data.groupby('customer_id')['Recency'].agg('min')"
      ],
      "execution_count": null,
      "outputs": []
    },
    {
      "cell_type": "code",
      "metadata": {
        "colab": {
          "base_uri": "https://localhost:8080/"
        },
        "id": "MRVZGj61slKo",
        "outputId": "2b722938-31fc-479b-dff7-f8afd3912ec2"
      },
      "source": [
        "R_min.head()"
      ],
      "execution_count": null,
      "outputs": [
        {
          "output_type": "execute_result",
          "data": {
            "text/plain": [
              "customer_id\n",
              "1       7\n",
              "2     128\n",
              "9      78\n",
              "12     67\n",
              "13     27\n",
              "Name: Recency, dtype: int64"
            ]
          },
          "metadata": {
            "tags": []
          },
          "execution_count": 47
        }
      ]
    },
    {
      "cell_type": "code",
      "metadata": {
        "id": "SGgbg3Q7tNCC"
      },
      "source": [
        "Count_prod = Data.groupby('customer_id')['product_id'].agg('count')"
      ],
      "execution_count": null,
      "outputs": []
    },
    {
      "cell_type": "code",
      "metadata": {
        "colab": {
          "base_uri": "https://localhost:8080/"
        },
        "id": "UIr8jaZltb_V",
        "outputId": "787e03c8-8620-4ab0-a445-74c55f80edb9"
      },
      "source": [
        "Count_prod.head()"
      ],
      "execution_count": null,
      "outputs": [
        {
          "output_type": "execute_result",
          "data": {
            "text/plain": [
              "customer_id\n",
              "1     11\n",
              "2      3\n",
              "9      6\n",
              "12     7\n",
              "13     7\n",
              "Name: product_id, dtype: int64"
            ]
          },
          "metadata": {
            "tags": []
          },
          "execution_count": 49
        }
      ]
    },
    {
      "cell_type": "code",
      "metadata": {
        "id": "u-v6StFtthxH"
      },
      "source": [
        "Profit_sum = Data.groupby('customer_id')['Profit'].agg('sum')"
      ],
      "execution_count": null,
      "outputs": []
    },
    {
      "cell_type": "code",
      "metadata": {
        "colab": {
          "base_uri": "https://localhost:8080/"
        },
        "id": "Cs2ZQnTwtvfz",
        "outputId": "796c0880-4ec3-47a4-b386-f95b89e6f9a0"
      },
      "source": [
        "Profit_sum.head()"
      ],
      "execution_count": null,
      "outputs": [
        {
          "output_type": "execute_result",
          "data": {
            "text/plain": [
              "customer_id\n",
              "1     3018.09\n",
              "2     2226.26\n",
              "9     2353.11\n",
              "12    3540.03\n",
              "13    4337.38\n",
              "Name: Profit, dtype: float64"
            ]
          },
          "metadata": {
            "tags": []
          },
          "execution_count": 51
        }
      ]
    },
    {
      "cell_type": "code",
      "metadata": {
        "id": "WrHN8jbst2Jh"
      },
      "source": [
        "RFM_Score = pd.concat([R_min, Count_prod, Profit_sum], axis= 1 )"
      ],
      "execution_count": null,
      "outputs": []
    },
    {
      "cell_type": "code",
      "metadata": {
        "colab": {
          "base_uri": "https://localhost:8080/"
        },
        "id": "3a7CQ5zkw21B",
        "outputId": "a7679c8e-137f-4147-82d0-c01d9ffe216d"
      },
      "source": [
        "type(RFM_Score)"
      ],
      "execution_count": null,
      "outputs": [
        {
          "output_type": "execute_result",
          "data": {
            "text/plain": [
              "pandas.core.frame.DataFrame"
            ]
          },
          "metadata": {
            "tags": []
          },
          "execution_count": 53
        }
      ]
    },
    {
      "cell_type": "code",
      "metadata": {
        "colab": {
          "base_uri": "https://localhost:8080/",
          "height": 297
        },
        "id": "rTL-YLaBx64k",
        "outputId": "b2d83c0e-82a6-4611-db93-06244ce7da3b"
      },
      "source": [
        "RFM_Score.describe()"
      ],
      "execution_count": null,
      "outputs": [
        {
          "output_type": "execute_result",
          "data": {
            "text/html": [
              "<div>\n",
              "<style scoped>\n",
              "    .dataframe tbody tr th:only-of-type {\n",
              "        vertical-align: middle;\n",
              "    }\n",
              "\n",
              "    .dataframe tbody tr th {\n",
              "        vertical-align: top;\n",
              "    }\n",
              "\n",
              "    .dataframe thead th {\n",
              "        text-align: right;\n",
              "    }\n",
              "</style>\n",
              "<table border=\"1\" class=\"dataframe\">\n",
              "  <thead>\n",
              "    <tr style=\"text-align: right;\">\n",
              "      <th></th>\n",
              "      <th>Recency</th>\n",
              "      <th>product_id</th>\n",
              "      <th>Profit</th>\n",
              "    </tr>\n",
              "  </thead>\n",
              "  <tbody>\n",
              "    <tr>\n",
              "      <th>count</th>\n",
              "      <td>2446.000000</td>\n",
              "      <td>2446.000000</td>\n",
              "      <td>2446.000000</td>\n",
              "    </tr>\n",
              "    <tr>\n",
              "      <th>mean</th>\n",
              "      <td>62.396975</td>\n",
              "      <td>5.571545</td>\n",
              "      <td>3076.721954</td>\n",
              "    </tr>\n",
              "    <tr>\n",
              "      <th>std</th>\n",
              "      <td>59.661607</td>\n",
              "      <td>2.273433</td>\n",
              "      <td>1770.324635</td>\n",
              "    </tr>\n",
              "    <tr>\n",
              "      <th>min</th>\n",
              "      <td>0.000000</td>\n",
              "      <td>1.000000</td>\n",
              "      <td>15.080000</td>\n",
              "    </tr>\n",
              "    <tr>\n",
              "      <th>25%</th>\n",
              "      <td>18.000000</td>\n",
              "      <td>4.000000</td>\n",
              "      <td>1796.072500</td>\n",
              "    </tr>\n",
              "    <tr>\n",
              "      <th>50%</th>\n",
              "      <td>44.000000</td>\n",
              "      <td>5.000000</td>\n",
              "      <td>2795.780000</td>\n",
              "    </tr>\n",
              "    <tr>\n",
              "      <th>75%</th>\n",
              "      <td>87.000000</td>\n",
              "      <td>7.000000</td>\n",
              "      <td>4095.417500</td>\n",
              "    </tr>\n",
              "    <tr>\n",
              "      <th>max</th>\n",
              "      <td>353.000000</td>\n",
              "      <td>14.000000</td>\n",
              "      <td>11668.950000</td>\n",
              "    </tr>\n",
              "  </tbody>\n",
              "</table>\n",
              "</div>"
            ],
            "text/plain": [
              "           Recency   product_id        Profit\n",
              "count  2446.000000  2446.000000   2446.000000\n",
              "mean     62.396975     5.571545   3076.721954\n",
              "std      59.661607     2.273433   1770.324635\n",
              "min       0.000000     1.000000     15.080000\n",
              "25%      18.000000     4.000000   1796.072500\n",
              "50%      44.000000     5.000000   2795.780000\n",
              "75%      87.000000     7.000000   4095.417500\n",
              "max     353.000000    14.000000  11668.950000"
            ]
          },
          "metadata": {
            "tags": []
          },
          "execution_count": 54
        }
      ]
    },
    {
      "cell_type": "code",
      "metadata": {
        "colab": {
          "base_uri": "https://localhost:8080/"
        },
        "id": "fsbuKYUk1chQ",
        "outputId": "319b595a-19f2-481d-b832-215f81f4b157"
      },
      "source": [
        "RFM_Score['Recency'].quantile(0.15)"
      ],
      "execution_count": null,
      "outputs": [
        {
          "output_type": "execute_result",
          "data": {
            "text/plain": [
              "10.0"
            ]
          },
          "metadata": {
            "tags": []
          },
          "execution_count": 55
        }
      ]
    },
    {
      "cell_type": "code",
      "metadata": {
        "colab": {
          "base_uri": "https://localhost:8080/"
        },
        "id": "F1s6q4tTyWNm",
        "outputId": "59a9fdd0-a22e-4374-a947-4c57710b4cb9"
      },
      "source": [
        "RFM_Score.quantile(0.85, numeric_only= False)"
      ],
      "execution_count": null,
      "outputs": [
        {
          "output_type": "execute_result",
          "data": {
            "text/plain": [
              "Recency        122.00\n",
              "product_id       8.00\n",
              "Profit        4906.92\n",
              "Name: 0.85, dtype: float64"
            ]
          },
          "metadata": {
            "tags": []
          },
          "execution_count": 56
        }
      ]
    },
    {
      "cell_type": "code",
      "metadata": {
        "id": "RhZ8F1oV2Wdb"
      },
      "source": [
        "RFM_Score.loc[RFM_Score['Recency'] < 354, 'R_Score'] = 1\n",
        "RFM_Score.loc[RFM_Score['Recency'] < 87, 'R_Score'] = 2\n",
        "RFM_Score.loc[RFM_Score['Recency'] < 44, 'R_Score'] = 3\n",
        "RFM_Score.loc[RFM_Score['Recency'] < 18, 'R_Score'] = 4\n",
        "RFM_Score.loc[RFM_Score['Recency'] < 10, 'R_Score'] = 5"
      ],
      "execution_count": null,
      "outputs": []
    },
    {
      "cell_type": "code",
      "metadata": {
        "id": "PIWg7MDt5DUi"
      },
      "source": [
        "RFM_Score.loc[RFM_Score['product_id'] > 0.99, 'F_Score'] = 1\n",
        "RFM_Score.loc[RFM_Score['product_id'] > 4, 'F_Score'] = 2\n",
        "RFM_Score.loc[RFM_Score['product_id'] > 5, 'F_Score'] = 3\n",
        "RFM_Score.loc[RFM_Score['product_id'] > 7, 'F_Score'] = 4\n",
        "RFM_Score.loc[RFM_Score['product_id'] > 8, 'F_Score'] = 5"
      ],
      "execution_count": null,
      "outputs": []
    },
    {
      "cell_type": "code",
      "metadata": {
        "id": "U8nPpHGL6hRU"
      },
      "source": [
        "RFM_Score.loc[RFM_Score['Profit'] > 15.08, 'M_Score'] = 1\n",
        "RFM_Score.loc[RFM_Score['Profit'] > 1796.09, 'M_Score'] = 2\n",
        "RFM_Score.loc[RFM_Score['Profit'] > 2795.78, 'M_Score'] = 3\n",
        "RFM_Score.loc[RFM_Score['Profit'] > 4513.06, 'M_Score'] = 4\n",
        "RFM_Score.loc[RFM_Score['Profit'] > 4906.92, 'M_Score'] = 5"
      ],
      "execution_count": null,
      "outputs": []
    },
    {
      "cell_type": "code",
      "metadata": {
        "id": "_LGRxDac72T0"
      },
      "source": [
        "RFM_Score['RFM_Value'] = ((RFM_Score['R_Score'] + RFM_Score['F_Score'] + RFM_Score['M_Score'])/3).astype(\"float64\")"
      ],
      "execution_count": null,
      "outputs": []
    },
    {
      "cell_type": "code",
      "metadata": {
        "colab": {
          "base_uri": "https://localhost:8080/",
          "height": 297
        },
        "id": "C9Mr3SUi9Gce",
        "outputId": "e6101a01-5391-4b4a-a90f-1ec37bdda4e8"
      },
      "source": [
        "RFM_Score.describe()"
      ],
      "execution_count": null,
      "outputs": [
        {
          "output_type": "execute_result",
          "data": {
            "text/html": [
              "<div>\n",
              "<style scoped>\n",
              "    .dataframe tbody tr th:only-of-type {\n",
              "        vertical-align: middle;\n",
              "    }\n",
              "\n",
              "    .dataframe tbody tr th {\n",
              "        vertical-align: top;\n",
              "    }\n",
              "\n",
              "    .dataframe thead th {\n",
              "        text-align: right;\n",
              "    }\n",
              "</style>\n",
              "<table border=\"1\" class=\"dataframe\">\n",
              "  <thead>\n",
              "    <tr style=\"text-align: right;\">\n",
              "      <th></th>\n",
              "      <th>Recency</th>\n",
              "      <th>product_id</th>\n",
              "      <th>Profit</th>\n",
              "      <th>R_Score</th>\n",
              "      <th>F_Score</th>\n",
              "      <th>M_Score</th>\n",
              "      <th>RFM_Value</th>\n",
              "    </tr>\n",
              "  </thead>\n",
              "  <tbody>\n",
              "    <tr>\n",
              "      <th>count</th>\n",
              "      <td>2446.000000</td>\n",
              "      <td>2446.000000</td>\n",
              "      <td>2446.000000</td>\n",
              "      <td>2446.000000</td>\n",
              "      <td>2446.000000</td>\n",
              "      <td>2446.000000</td>\n",
              "      <td>2446.000000</td>\n",
              "    </tr>\n",
              "    <tr>\n",
              "      <th>mean</th>\n",
              "      <td>62.396975</td>\n",
              "      <td>5.571545</td>\n",
              "      <td>3076.721954</td>\n",
              "      <td>2.625920</td>\n",
              "      <td>2.441128</td>\n",
              "      <td>2.599755</td>\n",
              "      <td>2.555601</td>\n",
              "    </tr>\n",
              "    <tr>\n",
              "      <th>std</th>\n",
              "      <td>59.661607</td>\n",
              "      <td>2.273433</td>\n",
              "      <td>1770.324635</td>\n",
              "      <td>1.338546</td>\n",
              "      <td>1.323227</td>\n",
              "      <td>1.319534</td>\n",
              "      <td>1.017266</td>\n",
              "    </tr>\n",
              "    <tr>\n",
              "      <th>min</th>\n",
              "      <td>0.000000</td>\n",
              "      <td>1.000000</td>\n",
              "      <td>15.080000</td>\n",
              "      <td>1.000000</td>\n",
              "      <td>1.000000</td>\n",
              "      <td>1.000000</td>\n",
              "      <td>1.000000</td>\n",
              "    </tr>\n",
              "    <tr>\n",
              "      <th>25%</th>\n",
              "      <td>18.000000</td>\n",
              "      <td>4.000000</td>\n",
              "      <td>1796.072500</td>\n",
              "      <td>1.000000</td>\n",
              "      <td>1.000000</td>\n",
              "      <td>1.250000</td>\n",
              "      <td>1.666667</td>\n",
              "    </tr>\n",
              "    <tr>\n",
              "      <th>50%</th>\n",
              "      <td>44.000000</td>\n",
              "      <td>5.000000</td>\n",
              "      <td>2795.780000</td>\n",
              "      <td>2.000000</td>\n",
              "      <td>2.000000</td>\n",
              "      <td>2.500000</td>\n",
              "      <td>2.666667</td>\n",
              "    </tr>\n",
              "    <tr>\n",
              "      <th>75%</th>\n",
              "      <td>87.000000</td>\n",
              "      <td>7.000000</td>\n",
              "      <td>4095.417500</td>\n",
              "      <td>3.000000</td>\n",
              "      <td>3.000000</td>\n",
              "      <td>3.000000</td>\n",
              "      <td>3.333333</td>\n",
              "    </tr>\n",
              "    <tr>\n",
              "      <th>max</th>\n",
              "      <td>353.000000</td>\n",
              "      <td>14.000000</td>\n",
              "      <td>11668.950000</td>\n",
              "      <td>5.000000</td>\n",
              "      <td>5.000000</td>\n",
              "      <td>5.000000</td>\n",
              "      <td>5.000000</td>\n",
              "    </tr>\n",
              "  </tbody>\n",
              "</table>\n",
              "</div>"
            ],
            "text/plain": [
              "           Recency   product_id  ...      M_Score    RFM_Value\n",
              "count  2446.000000  2446.000000  ...  2446.000000  2446.000000\n",
              "mean     62.396975     5.571545  ...     2.599755     2.555601\n",
              "std      59.661607     2.273433  ...     1.319534     1.017266\n",
              "min       0.000000     1.000000  ...     1.000000     1.000000\n",
              "25%      18.000000     4.000000  ...     1.250000     1.666667\n",
              "50%      44.000000     5.000000  ...     2.500000     2.666667\n",
              "75%      87.000000     7.000000  ...     3.000000     3.333333\n",
              "max     353.000000    14.000000  ...     5.000000     5.000000\n",
              "\n",
              "[8 rows x 7 columns]"
            ]
          },
          "metadata": {
            "tags": []
          },
          "execution_count": 61
        }
      ]
    },
    {
      "cell_type": "code",
      "metadata": {
        "colab": {
          "base_uri": "https://localhost:8080/"
        },
        "id": "lhwEXGqE9Ozk",
        "outputId": "bd2e8739-57ee-428b-9525-b0cea9c31f00"
      },
      "source": [
        "RFM_Score.RFM_Value.quantile(0.85)"
      ],
      "execution_count": null,
      "outputs": [
        {
          "output_type": "execute_result",
          "data": {
            "text/plain": [
              "3.6666666666666665"
            ]
          },
          "metadata": {
            "tags": []
          },
          "execution_count": 62
        }
      ]
    },
    {
      "cell_type": "code",
      "metadata": {
        "id": "seDiqgEY9rgY"
      },
      "source": [
        "RFM_Score.loc[RFM_Score['RFM_Value'] > 1, 'Customer_Title'] = \"Can't lose them!!\" \n",
        "RFM_Score.loc[RFM_Score['RFM_Value'] > 1.667, 'Customer_Title'] = \"At risk of losing\"\n",
        "RFM_Score.loc[RFM_Score['RFM_Value'] > 2.667, 'Customer_Title'] = \"Probably New Customer\"\n",
        "RFM_Score.loc[RFM_Score['RFM_Value'] > 3.333, 'Customer_Title'] = \"Possible Loyal\"\n",
        "RFM_Score.loc[RFM_Score['RFM_Value'] > 3.665, 'Customer_Title'] = \"Champion\""
      ],
      "execution_count": null,
      "outputs": []
    },
    {
      "cell_type": "code",
      "metadata": {
        "colab": {
          "base_uri": "https://localhost:8080/",
          "height": 235
        },
        "id": "g5MoTfyHvll1",
        "outputId": "fa5bfe2b-c5fc-4816-fd16-a1135c23ee9e"
      },
      "source": [
        "RFM_Score.head()"
      ],
      "execution_count": null,
      "outputs": [
        {
          "output_type": "execute_result",
          "data": {
            "text/html": [
              "<div>\n",
              "<style scoped>\n",
              "    .dataframe tbody tr th:only-of-type {\n",
              "        vertical-align: middle;\n",
              "    }\n",
              "\n",
              "    .dataframe tbody tr th {\n",
              "        vertical-align: top;\n",
              "    }\n",
              "\n",
              "    .dataframe thead th {\n",
              "        text-align: right;\n",
              "    }\n",
              "</style>\n",
              "<table border=\"1\" class=\"dataframe\">\n",
              "  <thead>\n",
              "    <tr style=\"text-align: right;\">\n",
              "      <th></th>\n",
              "      <th>Recency</th>\n",
              "      <th>product_id</th>\n",
              "      <th>Profit</th>\n",
              "      <th>R_Score</th>\n",
              "      <th>F_Score</th>\n",
              "      <th>M_Score</th>\n",
              "      <th>RFM_Value</th>\n",
              "      <th>Customer_Title</th>\n",
              "    </tr>\n",
              "    <tr>\n",
              "      <th>customer_id</th>\n",
              "      <th></th>\n",
              "      <th></th>\n",
              "      <th></th>\n",
              "      <th></th>\n",
              "      <th></th>\n",
              "      <th></th>\n",
              "      <th></th>\n",
              "      <th></th>\n",
              "    </tr>\n",
              "  </thead>\n",
              "  <tbody>\n",
              "    <tr>\n",
              "      <th>1</th>\n",
              "      <td>7</td>\n",
              "      <td>11</td>\n",
              "      <td>3018.09</td>\n",
              "      <td>5.0</td>\n",
              "      <td>5.0</td>\n",
              "      <td>3.0</td>\n",
              "      <td>4.333333</td>\n",
              "      <td>Champion</td>\n",
              "    </tr>\n",
              "    <tr>\n",
              "      <th>2</th>\n",
              "      <td>128</td>\n",
              "      <td>3</td>\n",
              "      <td>2226.26</td>\n",
              "      <td>1.0</td>\n",
              "      <td>1.0</td>\n",
              "      <td>2.0</td>\n",
              "      <td>1.333333</td>\n",
              "      <td>Can't lose them!!</td>\n",
              "    </tr>\n",
              "    <tr>\n",
              "      <th>9</th>\n",
              "      <td>78</td>\n",
              "      <td>6</td>\n",
              "      <td>2353.11</td>\n",
              "      <td>2.0</td>\n",
              "      <td>3.0</td>\n",
              "      <td>2.0</td>\n",
              "      <td>2.333333</td>\n",
              "      <td>At risk of losing</td>\n",
              "    </tr>\n",
              "    <tr>\n",
              "      <th>12</th>\n",
              "      <td>67</td>\n",
              "      <td>7</td>\n",
              "      <td>3540.03</td>\n",
              "      <td>2.0</td>\n",
              "      <td>3.0</td>\n",
              "      <td>3.0</td>\n",
              "      <td>2.666667</td>\n",
              "      <td>At risk of losing</td>\n",
              "    </tr>\n",
              "    <tr>\n",
              "      <th>13</th>\n",
              "      <td>27</td>\n",
              "      <td>7</td>\n",
              "      <td>4337.38</td>\n",
              "      <td>3.0</td>\n",
              "      <td>3.0</td>\n",
              "      <td>3.0</td>\n",
              "      <td>3.000000</td>\n",
              "      <td>Probably New Customer</td>\n",
              "    </tr>\n",
              "  </tbody>\n",
              "</table>\n",
              "</div>"
            ],
            "text/plain": [
              "             Recency  product_id  ...  RFM_Value         Customer_Title\n",
              "customer_id                       ...                                  \n",
              "1                  7          11  ...   4.333333               Champion\n",
              "2                128           3  ...   1.333333      Can't lose them!!\n",
              "9                 78           6  ...   2.333333      At risk of losing\n",
              "12                67           7  ...   2.666667      At risk of losing\n",
              "13                27           7  ...   3.000000  Probably New Customer\n",
              "\n",
              "[5 rows x 8 columns]"
            ]
          },
          "metadata": {
            "tags": []
          },
          "execution_count": 64
        }
      ]
    },
    {
      "cell_type": "code",
      "metadata": {
        "colab": {
          "base_uri": "https://localhost:8080/"
        },
        "id": "HZq8iN6AKqGJ",
        "outputId": "9cfb0129-90f7-4cbc-c02e-1cbf5684bf17"
      },
      "source": [
        "RFM_Score.info()"
      ],
      "execution_count": null,
      "outputs": [
        {
          "output_type": "stream",
          "text": [
            "<class 'pandas.core.frame.DataFrame'>\n",
            "Int64Index: 2446 entries, 1 to 3497\n",
            "Data columns (total 8 columns):\n",
            " #   Column          Non-Null Count  Dtype  \n",
            "---  ------          --------------  -----  \n",
            " 0   Recency         2446 non-null   int64  \n",
            " 1   product_id      2446 non-null   int64  \n",
            " 2   Profit          2446 non-null   float64\n",
            " 3   R_Score         2446 non-null   float64\n",
            " 4   F_Score         2446 non-null   float64\n",
            " 5   M_Score         2446 non-null   float64\n",
            " 6   RFM_Value       2446 non-null   float64\n",
            " 7   Customer_Title  2224 non-null   object \n",
            "dtypes: float64(5), int64(2), object(1)\n",
            "memory usage: 172.0+ KB\n"
          ],
          "name": "stdout"
        }
      ]
    },
    {
      "cell_type": "code",
      "metadata": {
        "colab": {
          "base_uri": "https://localhost:8080/",
          "height": 408
        },
        "id": "_w2jNGis-sFN",
        "outputId": "d2ede071-b2ec-47de-ed17-f142494335b6"
      },
      "source": [
        "RFM_Score.Customer_Title.value_counts().plot(kind= 'bar')\n",
        "plt.title('Number of Customer from Each Customer Group')"
      ],
      "execution_count": null,
      "outputs": [
        {
          "output_type": "execute_result",
          "data": {
            "text/plain": [
              "Text(0.5, 1.0, 'Number of Customer from Each Customer Group')"
            ]
          },
          "metadata": {
            "tags": []
          },
          "execution_count": 66
        },
        {
          "output_type": "display_data",
          "data": {
            "image/png": "[encoded data removed]",
            "text/plain": [
              "<Figure size 432x288 with 1 Axes>"
            ]
          },
          "metadata": {
            "tags": [],
            "needs_background": "light"
          }
        }
      ]
    },
    {
      "cell_type": "code",
      "metadata": {
        "colab": {
          "base_uri": "https://localhost:8080/"
        },
        "id": "S5InvyvxRnuM",
        "outputId": "7d1d26d8-2258-4126-b48e-5a6be1404e03"
      },
      "source": [
        "np.intersect1d(Data.columns, NewCustomerList.columns)"
      ],
      "execution_count": null,
      "outputs": [
        {
          "output_type": "execute_result",
          "data": {
            "text/plain": [
              "array(['Age', 'DOB', 'address', 'country', 'deceased_indicator',\n",
              "       'first_name', 'gender', 'job_industry_category', 'job_title',\n",
              "       'last_name', 'owns_car', 'past_3_years_bike_related_purchases',\n",
              "       'postcode', 'property_valuation', 'state', 'tenure',\n",
              "       'wealth_segment'], dtype=object)"
            ]
          },
          "metadata": {
            "tags": []
          },
          "execution_count": 67
        }
      ]
    },
    {
      "cell_type": "code",
      "metadata": {
        "colab": {
          "base_uri": "https://localhost:8080/"
        },
        "id": "nISZi_MNR2t9",
        "outputId": "43cbaa15-f98e-4a62-8a17-113c1c60207b"
      },
      "source": [
        "RFM_Score.shape"
      ],
      "execution_count": null,
      "outputs": [
        {
          "output_type": "execute_result",
          "data": {
            "text/plain": [
              "(2446, 8)"
            ]
          },
          "metadata": {
            "tags": []
          },
          "execution_count": 68
        }
      ]
    },
    {
      "cell_type": "code",
      "metadata": {
        "id": "kCuHfReCwpPU"
      },
      "source": [
        "Data_w_Cust_info = Data.drop_duplicates(subset= ['customer_id'])"
      ],
      "execution_count": null,
      "outputs": []
    },
    {
      "cell_type": "code",
      "metadata": {
        "id": "BKiSzZMc38eC"
      },
      "source": [
        "Data_w_Cstmr_info = Data_w_Cust_info[['customer_id','Age', 'wealth_segment','gender', 'job_industry_category', 'owns_car','state', 'past_3_years_bike_related_purchases','property_valuation']]"
      ],
      "execution_count": null,
      "outputs": []
    },
    {
      "cell_type": "code",
      "metadata": {
        "colab": {
          "base_uri": "https://localhost:8080/"
        },
        "id": "92-zkIAi5vjO",
        "outputId": "db62e4bd-6ddf-4917-895a-c34333ea45ce"
      },
      "source": [
        "Data_w_Cstmr_info.info()"
      ],
      "execution_count": null,
      "outputs": [
        {
          "output_type": "stream",
          "text": [
            "<class 'pandas.core.frame.DataFrame'>\n",
            "Int64Index: 2446 entries, 0 to 13624\n",
            "Data columns (total 9 columns):\n",
            " #   Column                               Non-Null Count  Dtype \n",
            "---  ------                               --------------  ----- \n",
            " 0   customer_id                          2446 non-null   int64 \n",
            " 1   Age                                  2446 non-null   int64 \n",
            " 2   wealth_segment                       2446 non-null   object\n",
            " 3   gender                               2446 non-null   object\n",
            " 4   job_industry_category                2446 non-null   object\n",
            " 5   owns_car                             2446 non-null   object\n",
            " 6   state                                2446 non-null   object\n",
            " 7   past_3_years_bike_related_purchases  2446 non-null   int64 \n",
            " 8   property_valuation                   2446 non-null   int64 \n",
            "dtypes: int64(4), object(5)\n",
            "memory usage: 191.1+ KB\n"
          ],
          "name": "stdout"
        }
      ]
    },
    {
      "cell_type": "code",
      "metadata": {
        "id": "sG_UQljk6Rjt"
      },
      "source": [
        "Final_Data = pd.merge(RFM_Score, Data_w_Cstmr_info, on= 'customer_id')"
      ],
      "execution_count": null,
      "outputs": []
    },
    {
      "cell_type": "code",
      "metadata": {
        "colab": {
          "base_uri": "https://localhost:8080/",
          "height": 292
        },
        "id": "ULMv5Wys6vWF",
        "outputId": "cf276fc8-1520-4941-f122-d094e0047584"
      },
      "source": [
        "Final_Data.head()"
      ],
      "execution_count": null,
      "outputs": [
        {
          "output_type": "execute_result",
          "data": {
            "text/html": [
              "<div>\n",
              "<style scoped>\n",
              "    .dataframe tbody tr th:only-of-type {\n",
              "        vertical-align: middle;\n",
              "    }\n",
              "\n",
              "    .dataframe tbody tr th {\n",
              "        vertical-align: top;\n",
              "    }\n",
              "\n",
              "    .dataframe thead th {\n",
              "        text-align: right;\n",
              "    }\n",
              "</style>\n",
              "<table border=\"1\" class=\"dataframe\">\n",
              "  <thead>\n",
              "    <tr style=\"text-align: right;\">\n",
              "      <th></th>\n",
              "      <th>customer_id</th>\n",
              "      <th>Recency</th>\n",
              "      <th>product_id</th>\n",
              "      <th>Profit</th>\n",
              "      <th>R_Score</th>\n",
              "      <th>F_Score</th>\n",
              "      <th>M_Score</th>\n",
              "      <th>RFM_Value</th>\n",
              "      <th>Customer_Title</th>\n",
              "      <th>Age</th>\n",
              "      <th>wealth_segment</th>\n",
              "      <th>gender</th>\n",
              "      <th>job_industry_category</th>\n",
              "      <th>owns_car</th>\n",
              "      <th>state</th>\n",
              "      <th>past_3_years_bike_related_purchases</th>\n",
              "      <th>property_valuation</th>\n",
              "    </tr>\n",
              "  </thead>\n",
              "  <tbody>\n",
              "    <tr>\n",
              "      <th>0</th>\n",
              "      <td>1</td>\n",
              "      <td>7</td>\n",
              "      <td>11</td>\n",
              "      <td>3018.09</td>\n",
              "      <td>5.0</td>\n",
              "      <td>5.0</td>\n",
              "      <td>3.0</td>\n",
              "      <td>4.333333</td>\n",
              "      <td>Champion</td>\n",
              "      <td>68</td>\n",
              "      <td>Mass Customer</td>\n",
              "      <td>Female</td>\n",
              "      <td>Health</td>\n",
              "      <td>Yes</td>\n",
              "      <td>New South Wales</td>\n",
              "      <td>93</td>\n",
              "      <td>10</td>\n",
              "    </tr>\n",
              "    <tr>\n",
              "      <th>1</th>\n",
              "      <td>2</td>\n",
              "      <td>128</td>\n",
              "      <td>3</td>\n",
              "      <td>2226.26</td>\n",
              "      <td>1.0</td>\n",
              "      <td>1.0</td>\n",
              "      <td>2.0</td>\n",
              "      <td>1.333333</td>\n",
              "      <td>Can't lose them!!</td>\n",
              "      <td>41</td>\n",
              "      <td>Mass Customer</td>\n",
              "      <td>Male</td>\n",
              "      <td>Financial Services</td>\n",
              "      <td>Yes</td>\n",
              "      <td>New South Wales</td>\n",
              "      <td>81</td>\n",
              "      <td>10</td>\n",
              "    </tr>\n",
              "    <tr>\n",
              "      <th>2</th>\n",
              "      <td>9</td>\n",
              "      <td>78</td>\n",
              "      <td>6</td>\n",
              "      <td>2353.11</td>\n",
              "      <td>2.0</td>\n",
              "      <td>3.0</td>\n",
              "      <td>2.0</td>\n",
              "      <td>2.333333</td>\n",
              "      <td>At risk of losing</td>\n",
              "      <td>48</td>\n",
              "      <td>Affluent Customer</td>\n",
              "      <td>Female</td>\n",
              "      <td>Argiculture</td>\n",
              "      <td>Yes</td>\n",
              "      <td>New South Wales</td>\n",
              "      <td>97</td>\n",
              "      <td>12</td>\n",
              "    </tr>\n",
              "    <tr>\n",
              "      <th>3</th>\n",
              "      <td>12</td>\n",
              "      <td>67</td>\n",
              "      <td>7</td>\n",
              "      <td>3540.03</td>\n",
              "      <td>2.0</td>\n",
              "      <td>3.0</td>\n",
              "      <td>3.0</td>\n",
              "      <td>2.666667</td>\n",
              "      <td>At risk of losing</td>\n",
              "      <td>27</td>\n",
              "      <td>Mass Customer</td>\n",
              "      <td>Male</td>\n",
              "      <td>Manufacturing</td>\n",
              "      <td>No</td>\n",
              "      <td>Queensland</td>\n",
              "      <td>58</td>\n",
              "      <td>4</td>\n",
              "    </tr>\n",
              "    <tr>\n",
              "      <th>4</th>\n",
              "      <td>13</td>\n",
              "      <td>27</td>\n",
              "      <td>7</td>\n",
              "      <td>4337.38</td>\n",
              "      <td>3.0</td>\n",
              "      <td>3.0</td>\n",
              "      <td>3.0</td>\n",
              "      <td>3.000000</td>\n",
              "      <td>Probably New Customer</td>\n",
              "      <td>66</td>\n",
              "      <td>High Net Worth</td>\n",
              "      <td>Male</td>\n",
              "      <td>Financial Services</td>\n",
              "      <td>Yes</td>\n",
              "      <td>Victoria</td>\n",
              "      <td>38</td>\n",
              "      <td>6</td>\n",
              "    </tr>\n",
              "  </tbody>\n",
              "</table>\n",
              "</div>"
            ],
            "text/plain": [
              "   customer_id  ...  property_valuation\n",
              "0            1  ...                  10\n",
              "1            2  ...                  10\n",
              "2            9  ...                  12\n",
              "3           12  ...                   4\n",
              "4           13  ...                   6\n",
              "\n",
              "[5 rows x 17 columns]"
            ]
          },
          "metadata": {
            "tags": []
          },
          "execution_count": 73
        }
      ]
    },
    {
      "cell_type": "code",
      "metadata": {
        "colab": {
          "base_uri": "https://localhost:8080/"
        },
        "id": "82N56Nst4wQY",
        "outputId": "c15c2a39-b3e1-4f1f-8cae-6c5fb19602ac"
      },
      "source": [
        "type(Final_Data)"
      ],
      "execution_count": null,
      "outputs": [
        {
          "output_type": "execute_result",
          "data": {
            "text/plain": [
              "pandas.core.frame.DataFrame"
            ]
          },
          "metadata": {
            "tags": []
          },
          "execution_count": 74
        }
      ]
    },
    {
      "cell_type": "code",
      "metadata": {
        "colab": {
          "base_uri": "https://localhost:8080/"
        },
        "id": "EpkF1pZRFeYA",
        "outputId": "a378bead-5984-4662-e17d-e04dce743531"
      },
      "source": [
        "Final_Data.info()"
      ],
      "execution_count": null,
      "outputs": [
        {
          "output_type": "stream",
          "text": [
            "<class 'pandas.core.frame.DataFrame'>\n",
            "Int64Index: 2446 entries, 0 to 2445\n",
            "Data columns (total 17 columns):\n",
            " #   Column                               Non-Null Count  Dtype  \n",
            "---  ------                               --------------  -----  \n",
            " 0   customer_id                          2446 non-null   int64  \n",
            " 1   Recency                              2446 non-null   int64  \n",
            " 2   product_id                           2446 non-null   int64  \n",
            " 3   Profit                               2446 non-null   float64\n",
            " 4   R_Score                              2446 non-null   float64\n",
            " 5   F_Score                              2446 non-null   float64\n",
            " 6   M_Score                              2446 non-null   float64\n",
            " 7   RFM_Value                            2446 non-null   float64\n",
            " 8   Customer_Title                       2224 non-null   object \n",
            " 9   Age                                  2446 non-null   int64  \n",
            " 10  wealth_segment                       2446 non-null   object \n",
            " 11  gender                               2446 non-null   object \n",
            " 12  job_industry_category                2446 non-null   object \n",
            " 13  owns_car                             2446 non-null   object \n",
            " 14  state                                2446 non-null   object \n",
            " 15  past_3_years_bike_related_purchases  2446 non-null   int64  \n",
            " 16  property_valuation                   2446 non-null   int64  \n",
            "dtypes: float64(5), int64(6), object(6)\n",
            "memory usage: 344.0+ KB\n"
          ],
          "name": "stdout"
        }
      ]
    },
    {
      "cell_type": "code",
      "metadata": {
        "id": "rKQZYBkn4UC4"
      },
      "source": [
        "Final_Data = Final_Data.dropna()"
      ],
      "execution_count": null,
      "outputs": []
    },
    {
      "cell_type": "code",
      "metadata": {
        "colab": {
          "base_uri": "https://localhost:8080/",
          "height": 490
        },
        "id": "oC52z5qzXtWJ",
        "outputId": "f9b1ec86-35ae-4d39-8ab8-d350a59c9827"
      },
      "source": [
        "ggplot(Final_Data, aes(x = 'Age'))+ \\\n",
        "  geom_bar(stat ='count', fill = '#ff7c43')+ \\\n",
        "  labs(x = 'Age', y = 'Number of Customer', title = 'Age wise Distribution of Customer') +\\\n",
        "  theme_538()"
      ],
      "execution_count": null,
      "outputs": [
        {
          "output_type": "display_data",
          "data": {
            "image/png": "[encoded data removed]",
            "text/plain": [
              "<Figure size 640x480 with 1 Axes>"
            ]
          },
          "metadata": {
            "tags": []
          }
        },
        {
          "output_type": "execute_result",
          "data": {
            "text/plain": [
              "<ggplot: (8760093648872)>"
            ]
          },
          "metadata": {
            "tags": []
          },
          "execution_count": 77
        }
      ]
    },
    {
      "cell_type": "code",
      "metadata": {
        "colab": {
          "base_uri": "https://localhost:8080/",
          "height": 510
        },
        "id": "OuWBbhu7IBgN",
        "outputId": "cbc3c43d-9248-450a-a52a-e90ad53d2c40"
      },
      "source": [
        "ggplot(Final_Data, aes(x = 'Age'))+ \\\n",
        "  geom_bar(stat ='count', fill = '#ff7c43')+ \\\n",
        "  facet_wrap('Customer_Title')+\\\n",
        "  labs(x = 'Age', y = 'Number of Customer', title = 'Age wise distribution of Customer in Each Customer Group') +\\\n",
        "  theme_538()"
      ],
      "execution_count": null,
      "outputs": [
        {
          "output_type": "display_data",
          "data": {
            "image/png": "[encoded data removed]",
            "text/plain": [
              "<Figure size 640x480 with 5 Axes>"
            ]
          },
          "metadata": {
            "tags": []
          }
        },
        {
          "output_type": "execute_result",
          "data": {
            "text/plain": [
              "<ggplot: (8760093374433)>"
            ]
          },
          "metadata": {
            "tags": []
          },
          "execution_count": 78
        }
      ]
    },
    {
      "cell_type": "code",
      "metadata": {
        "colab": {
          "base_uri": "https://localhost:8080/",
          "height": 527
        },
        "id": "7v1yow9DMAl_",
        "outputId": "6d25b5bc-5e76-4117-94b3-c073a9ebdd2d"
      },
      "source": [
        "ggplot(Final_Data, aes(x = 'Age'))+ \\\n",
        "  geom_bar(stat ='count', fill ='#d45087')+ \\\n",
        "  facet_wrap('job_industry_category')+\\\n",
        "  labs(title = 'Age-wise distribution of the Customer in each \\n Job Industry Category', x= 'Age', y = 'Number of customer') +\\\n",
        "  theme_538()"
      ],
      "execution_count": null,
      "outputs": [
        {
          "output_type": "display_data",
          "data": {
            "image/png": "[encoded data removed]",
            "text/plain": [
              "<Figure size 640x480 with 9 Axes>"
            ]
          },
          "metadata": {
            "tags": []
          }
        },
        {
          "output_type": "execute_result",
          "data": {
            "text/plain": [
              "<ggplot: (-9223363276771643918)>"
            ]
          },
          "metadata": {
            "tags": []
          },
          "execution_count": 79
        }
      ]
    },
    {
      "cell_type": "code",
      "metadata": {
        "colab": {
          "base_uri": "https://localhost:8080/",
          "height": 510
        },
        "id": "erp_nqAufD5D",
        "outputId": "303e61db-dc4f-46ff-8caa-11e30f374009"
      },
      "source": [
        "ggplot(Final_Data, aes(x = 'Age'))+ \\\n",
        "  geom_bar(stat = 'count', fill = '#003f5c')+ \\\n",
        "  facet_wrap('wealth_segment') +\\\n",
        "  labs(x = 'Age', y ='Number of Customer', title = 'Age wise distribution of customer in each wealth segment')+\\\n",
        "  theme_538()"
      ],
      "execution_count": null,
      "outputs": [
        {
          "output_type": "display_data",
          "data": {
            "image/png": "[encoded data removed]",
            "text/plain": [
              "<Figure size 640x480 with 3 Axes>"
            ]
          },
          "metadata": {
            "tags": []
          }
        },
        {
          "output_type": "execute_result",
          "data": {
            "text/plain": [
              "<ggplot: (-9223363276761275055)>"
            ]
          },
          "metadata": {
            "tags": []
          },
          "execution_count": 80
        }
      ]
    },
    {
      "cell_type": "code",
      "metadata": {
        "colab": {
          "base_uri": "https://localhost:8080/",
          "height": 564
        },
        "id": "lMAdHIkEX6I1",
        "outputId": "1f8f106b-e7a7-4d47-e84a-019067f79dcd"
      },
      "source": [
        "ggplot(Final_Data, aes(x = 'owns_car', fill = 'gender'))+ \\\n",
        "  geom_bar()+\\\n",
        "  facet_wrap('state')+\\\n",
        "  labs(x = 'Age', y = 'Number of Customer', title ='Share of each Gender which owns car in 3 states')+\\\n",
        "  scale_fill_discrete(name = 'Gender')+\\\n",
        "  theme_538()\n"
      ],
      "execution_count": null,
      "outputs": [
        {
          "output_type": "stream",
          "text": [
            "/usr/local/lib/python3.6/dist-packages/plotnine/utils.py:1246: FutureWarning: is_categorical is deprecated and will be removed in a future version.  Use is_categorical_dtype instead\n",
            "  if pdtypes.is_categorical(arr):\n"
          ],
          "name": "stderr"
        },
        {
          "output_type": "display_data",
          "data": {
            "image/png": "[encoded data removed]",
            "text/plain": [
              "<Figure size 640x480 with 3 Axes>"
            ]
          },
          "metadata": {
            "tags": []
          }
        },
        {
          "output_type": "execute_result",
          "data": {
            "text/plain": [
              "<ggplot: (8760093579805)>"
            ]
          },
          "metadata": {
            "tags": []
          },
          "execution_count": 81
        }
      ]
    },
    {
      "cell_type": "code",
      "metadata": {
        "id": "9nm3ytOljzR_"
      },
      "source": [
        "State_profit = Final_Data.groupby('state')['Profit'].agg(sum).to_frame().reset_index()"
      ],
      "execution_count": null,
      "outputs": []
    },
    {
      "cell_type": "code",
      "metadata": {
        "colab": {
          "base_uri": "https://localhost:8080/",
          "height": 142
        },
        "id": "-NOEl8WokUkE",
        "outputId": "bd14c1e6-2d50-4a82-b9e8-4ba15afd2ab7"
      },
      "source": [
        "State_profit"
      ],
      "execution_count": null,
      "outputs": [
        {
          "output_type": "execute_result",
          "data": {
            "text/html": [
              "<div>\n",
              "<style scoped>\n",
              "    .dataframe tbody tr th:only-of-type {\n",
              "        vertical-align: middle;\n",
              "    }\n",
              "\n",
              "    .dataframe tbody tr th {\n",
              "        vertical-align: top;\n",
              "    }\n",
              "\n",
              "    .dataframe thead th {\n",
              "        text-align: right;\n",
              "    }\n",
              "</style>\n",
              "<table border=\"1\" class=\"dataframe\">\n",
              "  <thead>\n",
              "    <tr style=\"text-align: right;\">\n",
              "      <th></th>\n",
              "      <th>state</th>\n",
              "      <th>Profit</th>\n",
              "    </tr>\n",
              "  </thead>\n",
              "  <tbody>\n",
              "    <tr>\n",
              "      <th>0</th>\n",
              "      <td>New South Wales</td>\n",
              "      <td>3855762.49</td>\n",
              "    </tr>\n",
              "    <tr>\n",
              "      <th>1</th>\n",
              "      <td>Queensland</td>\n",
              "      <td>1619811.73</td>\n",
              "    </tr>\n",
              "    <tr>\n",
              "      <th>2</th>\n",
              "      <td>Victoria</td>\n",
              "      <td>1850875.14</td>\n",
              "    </tr>\n",
              "  </tbody>\n",
              "</table>\n",
              "</div>"
            ],
            "text/plain": [
              "             state      Profit\n",
              "0  New South Wales  3855762.49\n",
              "1       Queensland  1619811.73\n",
              "2         Victoria  1850875.14"
            ]
          },
          "metadata": {
            "tags": []
          },
          "execution_count": 83
        }
      ]
    },
    {
      "cell_type": "code",
      "metadata": {
        "colab": {
          "base_uri": "https://localhost:8080/",
          "height": 281
        },
        "id": "5CR-p4B4kXYL",
        "outputId": "b0e32e93-07ae-4e07-e998-a2e38c568477"
      },
      "source": [
        "plt.pie(State_profit.Profit, \n",
        "        labels= State_profit.state, \n",
        "        explode= [0.2,0,0],autopct='%1.2f%%', \n",
        "        startangle= 90)\n",
        "\n",
        "plt.title('Share of Profits from each State')"
      ],
      "execution_count": null,
      "outputs": [
        {
          "output_type": "execute_result",
          "data": {
            "text/plain": [
              "Text(0.5, 1.0, 'Share of Profits from each State')"
            ]
          },
          "metadata": {
            "tags": []
          },
          "execution_count": 84
        },
        {
          "output_type": "display_data",
          "data": {
            "image/png": "[encoded data removed]",
            "text/plain": [
              "<Figure size 432x288 with 1 Axes>"
            ]
          },
          "metadata": {
            "tags": []
          }
        }
      ]
    },
    {
      "cell_type": "code",
      "metadata": {
        "colab": {
          "base_uri": "https://localhost:8080/",
          "height": 564
        },
        "id": "T4qcLdXghdAB",
        "outputId": "f643c1fb-0886-45d9-abea-8910473c092b"
      },
      "source": [
        "ggplot(Final_Data, aes(x = 'wealth_segment', y = 'Profit'))+\\\n",
        "    geom_col(stat = 'identity', fill = '#488f31')+\\\n",
        "    labs(x = 'Job Industry', y = 'Profit', title = 'Profits from each wealth segment')+\\\n",
        "    facet_wrap('Customer_Title')+\\\n",
        "    coord_flip()"
      ],
      "execution_count": null,
      "outputs": [
        {
          "output_type": "stream",
          "text": [
            "/usr/local/lib/python3.6/dist-packages/plotnine/utils.py:1246: FutureWarning: is_categorical is deprecated and will be removed in a future version.  Use is_categorical_dtype instead\n",
            "  if pdtypes.is_categorical(arr):\n"
          ],
          "name": "stderr"
        },
        {
          "output_type": "display_data",
          "data": {
            "image/png": "[encoded data removed]",
            "text/plain": [
              "<Figure size 640x480 with 5 Axes>"
            ]
          },
          "metadata": {
            "tags": []
          }
        },
        {
          "output_type": "execute_result",
          "data": {
            "text/plain": [
              "<ggplot: (8760093290451)>"
            ]
          },
          "metadata": {
            "tags": []
          },
          "execution_count": 85
        }
      ]
    },
    {
      "cell_type": "code",
      "metadata": {
        "colab": {
          "base_uri": "https://localhost:8080/",
          "height": 544
        },
        "id": "lSe52lf_mtuv",
        "outputId": "85a75162-28c3-40ae-aa66-cb15409113e9"
      },
      "source": [
        "ggplot(Final_Data, aes(x = 'state', fill = 'Customer_Title'))+ \\\n",
        "  stat_count()+ \\\n",
        "  labs(x = 'State', y = 'Number of Customer', title = 'Share of each customer group in respective states')+\\\n",
        "  scale_fill_discrete(name = 'Customer Group')+\\\n",
        "  theme_538()"
      ],
      "execution_count": null,
      "outputs": [
        {
          "output_type": "stream",
          "text": [
            "/usr/local/lib/python3.6/dist-packages/plotnine/utils.py:1246: FutureWarning: is_categorical is deprecated and will be removed in a future version.  Use is_categorical_dtype instead\n",
            "  if pdtypes.is_categorical(arr):\n"
          ],
          "name": "stderr"
        },
        {
          "output_type": "display_data",
          "data": {
            "image/png": "[encoded data removed]",
            "text/plain": [
              "<Figure size 640x480 with 1 Axes>"
            ]
          },
          "metadata": {
            "tags": []
          }
        },
        {
          "output_type": "execute_result",
          "data": {
            "text/plain": [
              "<ggplot: (-9223363276762057528)>"
            ]
          },
          "metadata": {
            "tags": []
          },
          "execution_count": 86
        }
      ]
    },
    {
      "cell_type": "code",
      "metadata": {
        "colab": {
          "base_uri": "https://localhost:8080/",
          "height": 544
        },
        "id": "zzAeQyXxnsdW",
        "outputId": "1006551a-8128-485a-85b6-f5faf98969cc"
      },
      "source": [
        "ggplot(Final_Data, aes(x = 'state', fill = 'wealth_segment'))+ \\\n",
        "  stat_count()+ \\\n",
        "  labs(x = 'State', y = 'Number of Customer', title = 'Share of each wealth segment in respective states')+ \\\n",
        "  scale_fill_discrete(name = 'Wealth Segment')+\\\n",
        "  theme_538()"
      ],
      "execution_count": null,
      "outputs": [
        {
          "output_type": "stream",
          "text": [
            "/usr/local/lib/python3.6/dist-packages/plotnine/utils.py:1246: FutureWarning: is_categorical is deprecated and will be removed in a future version.  Use is_categorical_dtype instead\n",
            "  if pdtypes.is_categorical(arr):\n"
          ],
          "name": "stderr"
        },
        {
          "output_type": "display_data",
          "data": {
            "image/png": "[encoded data removed]",
            "text/plain": [
              "<Figure size 640x480 with 1 Axes>"
            ]
          },
          "metadata": {
            "tags": []
          }
        },
        {
          "output_type": "execute_result",
          "data": {
            "text/plain": [
              "<ggplot: (-9223363276762061273)>"
            ]
          },
          "metadata": {
            "tags": []
          },
          "execution_count": 87
        }
      ]
    },
    {
      "cell_type": "code",
      "metadata": {
        "id": "alSycEcnyKDO"
      },
      "source": [
        "customer_title_profit = Final_Data.groupby('Customer_Title')['Profit'].agg(sum).to_frame().reset_index()"
      ],
      "execution_count": null,
      "outputs": []
    },
    {
      "cell_type": "code",
      "metadata": {
        "colab": {
          "base_uri": "https://localhost:8080/",
          "height": 204
        },
        "id": "lqqvuaxbysxD",
        "outputId": "76f33f84-e2ad-495b-a24f-768bf5de2dcf"
      },
      "source": [
        "customer_title_profit"
      ],
      "execution_count": null,
      "outputs": [
        {
          "output_type": "execute_result",
          "data": {
            "text/html": [
              "<div>\n",
              "<style scoped>\n",
              "    .dataframe tbody tr th:only-of-type {\n",
              "        vertical-align: middle;\n",
              "    }\n",
              "\n",
              "    .dataframe tbody tr th {\n",
              "        vertical-align: top;\n",
              "    }\n",
              "\n",
              "    .dataframe thead th {\n",
              "        text-align: right;\n",
              "    }\n",
              "</style>\n",
              "<table border=\"1\" class=\"dataframe\">\n",
              "  <thead>\n",
              "    <tr style=\"text-align: right;\">\n",
              "      <th></th>\n",
              "      <th>Customer_Title</th>\n",
              "      <th>Profit</th>\n",
              "    </tr>\n",
              "  </thead>\n",
              "  <tbody>\n",
              "    <tr>\n",
              "      <th>0</th>\n",
              "      <td>At risk of losing</td>\n",
              "      <td>2252384.69</td>\n",
              "    </tr>\n",
              "    <tr>\n",
              "      <th>1</th>\n",
              "      <td>Can't lose them!!</td>\n",
              "      <td>840234.10</td>\n",
              "    </tr>\n",
              "    <tr>\n",
              "      <th>2</th>\n",
              "      <td>Champion</td>\n",
              "      <td>2486139.69</td>\n",
              "    </tr>\n",
              "    <tr>\n",
              "      <th>3</th>\n",
              "      <td>Possible Loyal</td>\n",
              "      <td>850625.40</td>\n",
              "    </tr>\n",
              "    <tr>\n",
              "      <th>4</th>\n",
              "      <td>Probably New Customer</td>\n",
              "      <td>897065.48</td>\n",
              "    </tr>\n",
              "  </tbody>\n",
              "</table>\n",
              "</div>"
            ],
            "text/plain": [
              "          Customer_Title      Profit\n",
              "0      At risk of losing  2252384.69\n",
              "1      Can't lose them!!   840234.10\n",
              "2               Champion  2486139.69\n",
              "3         Possible Loyal   850625.40\n",
              "4  Probably New Customer   897065.48"
            ]
          },
          "metadata": {
            "tags": []
          },
          "execution_count": 89
        }
      ]
    },
    {
      "cell_type": "code",
      "metadata": {
        "colab": {
          "base_uri": "https://localhost:8080/",
          "height": 544
        },
        "id": "sENgxG9Gy3-U",
        "outputId": "5c9d55f1-6f28-4010-afe1-4572d92d2898"
      },
      "source": [
        "ggplot(customer_title_profit, aes(x = 'Customer_Title', y = 'Profit', fill = 'Customer_Title'))+ \\\n",
        "  geom_col(stat = 'identity') + \\\n",
        "  theme(legend_position= 'none')+ \\\n",
        "  coord_flip()+ \\\n",
        "  labs(x = 'Customer Group', y = 'Profit', title = 'Profits from each customer group')+\\\n",
        "  scale_fill_discrete(name = 'Customer Group')+\\\n",
        "  theme_538()"
      ],
      "execution_count": null,
      "outputs": [
        {
          "output_type": "stream",
          "text": [
            "/usr/local/lib/python3.6/dist-packages/plotnine/utils.py:1246: FutureWarning: is_categorical is deprecated and will be removed in a future version.  Use is_categorical_dtype instead\n",
            "  if pdtypes.is_categorical(arr):\n"
          ],
          "name": "stderr"
        },
        {
          "output_type": "display_data",
          "data": {
            "image/png": "[encoded data removed]",
            "text/plain": [
              "<Figure size 640x480 with 1 Axes>"
            ]
          },
          "metadata": {
            "tags": []
          }
        },
        {
          "output_type": "execute_result",
          "data": {
            "text/plain": [
              "<ggplot: (-9223363276761997708)>"
            ]
          },
          "metadata": {
            "tags": []
          },
          "execution_count": 90
        }
      ]
    },
    {
      "cell_type": "code",
      "metadata": {
        "colab": {
          "base_uri": "https://localhost:8080/",
          "height": 564
        },
        "id": "2LF8vPKwi2rR",
        "outputId": "75293a75-2777-4e7a-94ed-d5bab51423b7"
      },
      "source": [
        "ggplot(Final_Data, aes(x = 'state', y = 'Profit'))+\\\n",
        "    geom_col(stat = 'identity', fill = '#ffa600')+\\\n",
        "    facet_wrap('Customer_Title')+ \\\n",
        "    labs(x = 'States', y = 'Profit', title = 'Profits from each State')+\\\n",
        "    coord_flip()"
      ],
      "execution_count": null,
      "outputs": [
        {
          "output_type": "stream",
          "text": [
            "/usr/local/lib/python3.6/dist-packages/plotnine/utils.py:1246: FutureWarning: is_categorical is deprecated and will be removed in a future version.  Use is_categorical_dtype instead\n",
            "  if pdtypes.is_categorical(arr):\n"
          ],
          "name": "stderr"
        },
        {
          "output_type": "display_data",
          "data": {
            "image/png": "[encoded data removed]",
            "text/plain": [
              "<Figure size 640x480 with 5 Axes>"
            ]
          },
          "metadata": {
            "tags": []
          }
        },
        {
          "output_type": "execute_result",
          "data": {
            "text/plain": [
              "<ggplot: (8760093007992)>"
            ]
          },
          "metadata": {
            "tags": []
          },
          "execution_count": 91
        }
      ]
    },
    {
      "cell_type": "code",
      "metadata": {
        "colab": {
          "base_uri": "https://localhost:8080/",
          "height": 564
        },
        "id": "1-5o_Zf_knfF",
        "outputId": "1da0ae85-1bdf-4d2a-9455-713e67c3e5e9"
      },
      "source": [
        "ggplot(Final_Data, aes(x = 'job_industry_category', y = 'Profit'))+\\\n",
        "    geom_col(stat = 'identity', fill = '#58508d')+\\\n",
        "    facet_wrap('Customer_Title')+\\\n",
        "    labs(x = 'Job Industry', y = 'Profit', title = 'Profits from each job sector')+\\\n",
        "    coord_flip()"
      ],
      "execution_count": null,
      "outputs": [
        {
          "output_type": "stream",
          "text": [
            "/usr/local/lib/python3.6/dist-packages/plotnine/utils.py:1246: FutureWarning: is_categorical is deprecated and will be removed in a future version.  Use is_categorical_dtype instead\n",
            "  if pdtypes.is_categorical(arr):\n"
          ],
          "name": "stderr"
        },
        {
          "output_type": "display_data",
          "data": {
            "image/png": "[encoded data removed]",
            "text/plain": [
              "<Figure size 640x480 with 5 Axes>"
            ]
          },
          "metadata": {
            "tags": []
          }
        },
        {
          "output_type": "execute_result",
          "data": {
            "text/plain": [
              "<ggplot: (8760092902436)>"
            ]
          },
          "metadata": {
            "tags": []
          },
          "execution_count": 92
        }
      ]
    },
    {
      "cell_type": "code",
      "metadata": {
        "colab": {
          "base_uri": "https://localhost:8080/",
          "height": 377
        },
        "id": "wE-Ygn6C0bhh",
        "outputId": "630bd7cc-045e-4832-f2a2-d53242e962ae"
      },
      "source": [
        "NewCustomerList.head()"
      ],
      "execution_count": null,
      "outputs": [
        {
          "output_type": "execute_result",
          "data": {
            "text/html": [
              "<div>\n",
              "<style scoped>\n",
              "    .dataframe tbody tr th:only-of-type {\n",
              "        vertical-align: middle;\n",
              "    }\n",
              "\n",
              "    .dataframe tbody tr th {\n",
              "        vertical-align: top;\n",
              "    }\n",
              "\n",
              "    .dataframe thead th {\n",
              "        text-align: right;\n",
              "    }\n",
              "</style>\n",
              "<table border=\"1\" class=\"dataframe\">\n",
              "  <thead>\n",
              "    <tr style=\"text-align: right;\">\n",
              "      <th></th>\n",
              "      <th>first_name</th>\n",
              "      <th>last_name</th>\n",
              "      <th>gender</th>\n",
              "      <th>past_3_years_bike_related_purchases</th>\n",
              "      <th>DOB</th>\n",
              "      <th>job_title</th>\n",
              "      <th>Age</th>\n",
              "      <th>job_industry_category</th>\n",
              "      <th>wealth_segment</th>\n",
              "      <th>deceased_indicator</th>\n",
              "      <th>owns_car</th>\n",
              "      <th>tenure</th>\n",
              "      <th>address</th>\n",
              "      <th>postcode</th>\n",
              "      <th>state</th>\n",
              "      <th>country</th>\n",
              "      <th>property_valuation</th>\n",
              "      <th>Rank</th>\n",
              "      <th>Value</th>\n",
              "    </tr>\n",
              "  </thead>\n",
              "  <tbody>\n",
              "    <tr>\n",
              "      <th>0</th>\n",
              "      <td>Chickie</td>\n",
              "      <td>Brister</td>\n",
              "      <td>Male</td>\n",
              "      <td>86</td>\n",
              "      <td>1957-07-12</td>\n",
              "      <td>General Manager</td>\n",
              "      <td>64</td>\n",
              "      <td>Manufacturing</td>\n",
              "      <td>Mass Customer</td>\n",
              "      <td>N</td>\n",
              "      <td>Yes</td>\n",
              "      <td>14</td>\n",
              "      <td>45 Shopko Center</td>\n",
              "      <td>4500</td>\n",
              "      <td>QLD</td>\n",
              "      <td>Australia</td>\n",
              "      <td>6</td>\n",
              "      <td>1</td>\n",
              "      <td>1.718750</td>\n",
              "    </tr>\n",
              "    <tr>\n",
              "      <th>1</th>\n",
              "      <td>Morly</td>\n",
              "      <td>Genery</td>\n",
              "      <td>Male</td>\n",
              "      <td>69</td>\n",
              "      <td>1970-03-22</td>\n",
              "      <td>Structural Engineer</td>\n",
              "      <td>51</td>\n",
              "      <td>Property</td>\n",
              "      <td>Mass Customer</td>\n",
              "      <td>N</td>\n",
              "      <td>No</td>\n",
              "      <td>16</td>\n",
              "      <td>14 Mccormick Park</td>\n",
              "      <td>2113</td>\n",
              "      <td>NSW</td>\n",
              "      <td>Australia</td>\n",
              "      <td>11</td>\n",
              "      <td>1</td>\n",
              "      <td>1.718750</td>\n",
              "    </tr>\n",
              "    <tr>\n",
              "      <th>2</th>\n",
              "      <td>Ardelis</td>\n",
              "      <td>Forrester</td>\n",
              "      <td>Female</td>\n",
              "      <td>10</td>\n",
              "      <td>1974-08-28</td>\n",
              "      <td>Senior Cost Accountant</td>\n",
              "      <td>47</td>\n",
              "      <td>Financial Services</td>\n",
              "      <td>Affluent Customer</td>\n",
              "      <td>N</td>\n",
              "      <td>No</td>\n",
              "      <td>10</td>\n",
              "      <td>5 Colorado Crossing</td>\n",
              "      <td>3505</td>\n",
              "      <td>VIC</td>\n",
              "      <td>Australia</td>\n",
              "      <td>5</td>\n",
              "      <td>1</td>\n",
              "      <td>1.718750</td>\n",
              "    </tr>\n",
              "    <tr>\n",
              "      <th>3</th>\n",
              "      <td>Lucine</td>\n",
              "      <td>Stutt</td>\n",
              "      <td>Female</td>\n",
              "      <td>64</td>\n",
              "      <td>1979-01-28</td>\n",
              "      <td>Account Representative III</td>\n",
              "      <td>42</td>\n",
              "      <td>Manufacturing</td>\n",
              "      <td>Affluent Customer</td>\n",
              "      <td>N</td>\n",
              "      <td>Yes</td>\n",
              "      <td>5</td>\n",
              "      <td>207 Annamark Plaza</td>\n",
              "      <td>4814</td>\n",
              "      <td>QLD</td>\n",
              "      <td>Australia</td>\n",
              "      <td>1</td>\n",
              "      <td>4</td>\n",
              "      <td>1.703125</td>\n",
              "    </tr>\n",
              "    <tr>\n",
              "      <th>4</th>\n",
              "      <td>Melinda</td>\n",
              "      <td>Hadlee</td>\n",
              "      <td>Female</td>\n",
              "      <td>34</td>\n",
              "      <td>1965-09-21</td>\n",
              "      <td>Financial Analyst</td>\n",
              "      <td>56</td>\n",
              "      <td>Financial Services</td>\n",
              "      <td>Affluent Customer</td>\n",
              "      <td>N</td>\n",
              "      <td>No</td>\n",
              "      <td>19</td>\n",
              "      <td>115 Montana Place</td>\n",
              "      <td>2093</td>\n",
              "      <td>NSW</td>\n",
              "      <td>Australia</td>\n",
              "      <td>9</td>\n",
              "      <td>4</td>\n",
              "      <td>1.703125</td>\n",
              "    </tr>\n",
              "  </tbody>\n",
              "</table>\n",
              "</div>"
            ],
            "text/plain": [
              "  first_name  last_name  gender  ...  property_valuation Rank     Value\n",
              "0    Chickie    Brister    Male  ...                   6    1  1.718750\n",
              "1      Morly     Genery    Male  ...                  11    1  1.718750\n",
              "2    Ardelis  Forrester  Female  ...                   5    1  1.718750\n",
              "3     Lucine      Stutt  Female  ...                   1    4  1.703125\n",
              "4    Melinda     Hadlee  Female  ...                   9    4  1.703125\n",
              "\n",
              "[5 rows x 19 columns]"
            ]
          },
          "metadata": {
            "tags": []
          },
          "execution_count": 93
        }
      ]
    },
    {
      "cell_type": "markdown",
      "metadata": {
        "id": "B-_UfUCv18W_"
      },
      "source": [
        "Look into New Customer list"
      ]
    },
    {
      "cell_type": "code",
      "metadata": {
        "colab": {
          "base_uri": "https://localhost:8080/",
          "height": 490
        },
        "id": "ri3B3vMlNY4S",
        "outputId": "23bb36ee-008c-448d-d68a-eadba5257013"
      },
      "source": [
        "ggplot(NewCustomerList, aes(x = 'Age'))+ \\\n",
        "  geom_bar(stat = 'count', fill = '#f8bc6c')+ \\\n",
        "  labs(x ='Age', y ='Number of customer', title = 'Age-wise distribution of New Customers')+ \\\n",
        "  theme_538()"
      ],
      "execution_count": null,
      "outputs": [
        {
          "output_type": "display_data",
          "data": {
            "image/png": "[encoded data removed]",
            "text/plain": [
              "<Figure size 640x480 with 1 Axes>"
            ]
          },
          "metadata": {
            "tags": []
          }
        },
        {
          "output_type": "execute_result",
          "data": {
            "text/plain": [
              "<ggplot: (8760092968438)>"
            ]
          },
          "metadata": {
            "tags": []
          },
          "execution_count": 94
        }
      ]
    },
    {
      "cell_type": "code",
      "metadata": {
        "colab": {
          "base_uri": "https://localhost:8080/",
          "height": 527
        },
        "id": "9ShSBHkjXDsH",
        "outputId": "095e1843-3912-4c6d-af8b-e47e6e8b1f50"
      },
      "source": [
        "ggplot(NewCustomerList, aes(x = 'Age')) +\\\n",
        "  geom_bar(stat ='count', fill = '#00a1c1')+ \\\n",
        "  facet_wrap('job_industry_category')+ \\\n",
        "  labs(x = 'Age', y ='number of Customer', title = 'Age-wise distribution of New customer  for each \\n job industry category')+\\\n",
        "  theme_538()"
      ],
      "execution_count": null,
      "outputs": [
        {
          "output_type": "display_data",
          "data": {
            "image/png": "[encoded data removed]",
            "text/plain": [
              "<Figure size 640x480 with 9 Axes>"
            ]
          },
          "metadata": {
            "tags": []
          }
        },
        {
          "output_type": "execute_result",
          "data": {
            "text/plain": [
              "<ggplot: (-9223363276761643653)>"
            ]
          },
          "metadata": {
            "tags": []
          },
          "execution_count": 95
        }
      ]
    },
    {
      "cell_type": "code",
      "metadata": {
        "colab": {
          "base_uri": "https://localhost:8080/",
          "height": 510
        },
        "id": "skYXcgF6XtZ1",
        "outputId": "458f8714-a395-4479-e5b1-11dd335c9fef"
      },
      "source": [
        "ggplot(NewCustomerList, aes(x = 'Age'))+ \\\n",
        "  geom_bar(stat = 'count', fill = '#004d99')+ \\\n",
        "  facet_wrap('wealth_segment')+ \\\n",
        "  labs(x = 'Age', y = 'Number of Customer', title = 'Age-wise distribution of New customer from each wealth segment')+\\\n",
        "  theme_538()"
      ],
      "execution_count": null,
      "outputs": [
        {
          "output_type": "display_data",
          "data": {
            "image/png": "[encoded data removed]",
            "text/plain": [
              "<Figure size 640x480 with 3 Axes>"
            ]
          },
          "metadata": {
            "tags": []
          }
        },
        {
          "output_type": "execute_result",
          "data": {
            "text/plain": [
              "<ggplot: (-9223363276771689335)>"
            ]
          },
          "metadata": {
            "tags": []
          },
          "execution_count": 96
        }
      ]
    },
    {
      "cell_type": "code",
      "metadata": {
        "colab": {
          "base_uri": "https://localhost:8080/",
          "height": 581
        },
        "id": "zgajAqF_Xpty",
        "outputId": "af603e34-6767-48be-d509-a56a440b6a24"
      },
      "source": [
        "ggplot(NewCustomerList, aes(x = 'owns_car', fill = 'gender'))+ \\\n",
        "  stat_count()+\\\n",
        "  facet_wrap('state')+\\\n",
        "  labs(x = 'Owns Car', y = 'Number of customer', title ='Share of New customer owning & not owning a car \\n in each states')+ \\\n",
        "  scale_fill_discrete(name = 'Gender')+\\\n",
        "  theme_538()"
      ],
      "execution_count": null,
      "outputs": [
        {
          "output_type": "stream",
          "text": [
            "/usr/local/lib/python3.6/dist-packages/plotnine/utils.py:1246: FutureWarning: is_categorical is deprecated and will be removed in a future version.  Use is_categorical_dtype instead\n",
            "  if pdtypes.is_categorical(arr):\n"
          ],
          "name": "stderr"
        },
        {
          "output_type": "display_data",
          "data": {
            "image/png": "[encoded data removed]",
            "text/plain": [
              "<Figure size 640x480 with 3 Axes>"
            ]
          },
          "metadata": {
            "tags": []
          }
        },
        {
          "output_type": "execute_result",
          "data": {
            "text/plain": [
              "<ggplot: (-9223363276761920999)>"
            ]
          },
          "metadata": {
            "tags": []
          },
          "execution_count": 97
        }
      ]
    },
    {
      "cell_type": "code",
      "metadata": {
        "colab": {
          "base_uri": "https://localhost:8080/",
          "height": 561
        },
        "id": "lFXzhvTAX2E4",
        "outputId": "8a2417d4-adae-46b7-928f-2d76e75f21a6"
      },
      "source": [
        "ggplot(NewCustomerList, aes(x = 'state', fill = 'wealth_segment'))+ \\\n",
        "  stat_count()+ \\\n",
        "  labs(x = 'State', y = 'Number of Customer', title ='Share of each wealth segment in respective states \\n for new Customer') +\\\n",
        "  scale_fill_discrete(name = 'Wealth Segment')+\\\n",
        "  theme_538()"
      ],
      "execution_count": null,
      "outputs": [
        {
          "output_type": "stream",
          "text": [
            "/usr/local/lib/python3.6/dist-packages/plotnine/utils.py:1246: FutureWarning: is_categorical is deprecated and will be removed in a future version.  Use is_categorical_dtype instead\n",
            "  if pdtypes.is_categorical(arr):\n"
          ],
          "name": "stderr"
        },
        {
          "output_type": "display_data",
          "data": {
            "image/png": "[encoded data removed]",
            "text/plain": [
              "<Figure size 640x480 with 1 Axes>"
            ]
          },
          "metadata": {
            "tags": []
          }
        },
        {
          "output_type": "execute_result",
          "data": {
            "text/plain": [
              "<ggplot: (-9223363276761920894)>"
            ]
          },
          "metadata": {
            "tags": []
          },
          "execution_count": 98
        }
      ]
    },
    {
      "cell_type": "markdown",
      "metadata": {
        "id": "3bdHqOU72vwQ"
      },
      "source": [
        "### Task 3: Data insights and Presentation. "
      ]
    },
    {
      "cell_type": "markdown",
      "metadata": {
        "id": "Y3z3vUvV7yuw"
      },
      "source": [
        "Prepare the data for the Tableau Dashboard\n"
      ]
    },
    {
      "cell_type": "code",
      "metadata": {
        "id": "hHTljxRRJFiv",
        "colab": {
          "base_uri": "https://localhost:8080/",
          "height": 292
        },
        "outputId": "5589db56-62c8-4443-d8fa-c1e3f76a6b9a"
      },
      "source": [
        "Final_Data.head()"
      ],
      "execution_count": null,
      "outputs": [
        {
          "output_type": "execute_result",
          "data": {
            "text/html": [
              "<div>\n",
              "<style scoped>\n",
              "    .dataframe tbody tr th:only-of-type {\n",
              "        vertical-align: middle;\n",
              "    }\n",
              "\n",
              "    .dataframe tbody tr th {\n",
              "        vertical-align: top;\n",
              "    }\n",
              "\n",
              "    .dataframe thead th {\n",
              "        text-align: right;\n",
              "    }\n",
              "</style>\n",
              "<table border=\"1\" class=\"dataframe\">\n",
              "  <thead>\n",
              "    <tr style=\"text-align: right;\">\n",
              "      <th></th>\n",
              "      <th>customer_id</th>\n",
              "      <th>Recency</th>\n",
              "      <th>product_id</th>\n",
              "      <th>Profit</th>\n",
              "      <th>R_Score</th>\n",
              "      <th>F_Score</th>\n",
              "      <th>M_Score</th>\n",
              "      <th>RFM_Value</th>\n",
              "      <th>Customer_Title</th>\n",
              "      <th>Age</th>\n",
              "      <th>wealth_segment</th>\n",
              "      <th>gender</th>\n",
              "      <th>job_industry_category</th>\n",
              "      <th>owns_car</th>\n",
              "      <th>state</th>\n",
              "      <th>past_3_years_bike_related_purchases</th>\n",
              "      <th>property_valuation</th>\n",
              "    </tr>\n",
              "  </thead>\n",
              "  <tbody>\n",
              "    <tr>\n",
              "      <th>0</th>\n",
              "      <td>1</td>\n",
              "      <td>7</td>\n",
              "      <td>11</td>\n",
              "      <td>3018.09</td>\n",
              "      <td>5.0</td>\n",
              "      <td>5.0</td>\n",
              "      <td>3.0</td>\n",
              "      <td>4.333333</td>\n",
              "      <td>Champion</td>\n",
              "      <td>68</td>\n",
              "      <td>Mass Customer</td>\n",
              "      <td>Female</td>\n",
              "      <td>Health</td>\n",
              "      <td>Yes</td>\n",
              "      <td>New South Wales</td>\n",
              "      <td>93</td>\n",
              "      <td>10</td>\n",
              "    </tr>\n",
              "    <tr>\n",
              "      <th>1</th>\n",
              "      <td>2</td>\n",
              "      <td>128</td>\n",
              "      <td>3</td>\n",
              "      <td>2226.26</td>\n",
              "      <td>1.0</td>\n",
              "      <td>1.0</td>\n",
              "      <td>2.0</td>\n",
              "      <td>1.333333</td>\n",
              "      <td>Can't lose them!!</td>\n",
              "      <td>41</td>\n",
              "      <td>Mass Customer</td>\n",
              "      <td>Male</td>\n",
              "      <td>Financial Services</td>\n",
              "      <td>Yes</td>\n",
              "      <td>New South Wales</td>\n",
              "      <td>81</td>\n",
              "      <td>10</td>\n",
              "    </tr>\n",
              "    <tr>\n",
              "      <th>2</th>\n",
              "      <td>9</td>\n",
              "      <td>78</td>\n",
              "      <td>6</td>\n",
              "      <td>2353.11</td>\n",
              "      <td>2.0</td>\n",
              "      <td>3.0</td>\n",
              "      <td>2.0</td>\n",
              "      <td>2.333333</td>\n",
              "      <td>At risk of losing</td>\n",
              "      <td>48</td>\n",
              "      <td>Affluent Customer</td>\n",
              "      <td>Female</td>\n",
              "      <td>Argiculture</td>\n",
              "      <td>Yes</td>\n",
              "      <td>New South Wales</td>\n",
              "      <td>97</td>\n",
              "      <td>12</td>\n",
              "    </tr>\n",
              "    <tr>\n",
              "      <th>3</th>\n",
              "      <td>12</td>\n",
              "      <td>67</td>\n",
              "      <td>7</td>\n",
              "      <td>3540.03</td>\n",
              "      <td>2.0</td>\n",
              "      <td>3.0</td>\n",
              "      <td>3.0</td>\n",
              "      <td>2.666667</td>\n",
              "      <td>At risk of losing</td>\n",
              "      <td>27</td>\n",
              "      <td>Mass Customer</td>\n",
              "      <td>Male</td>\n",
              "      <td>Manufacturing</td>\n",
              "      <td>No</td>\n",
              "      <td>Queensland</td>\n",
              "      <td>58</td>\n",
              "      <td>4</td>\n",
              "    </tr>\n",
              "    <tr>\n",
              "      <th>4</th>\n",
              "      <td>13</td>\n",
              "      <td>27</td>\n",
              "      <td>7</td>\n",
              "      <td>4337.38</td>\n",
              "      <td>3.0</td>\n",
              "      <td>3.0</td>\n",
              "      <td>3.0</td>\n",
              "      <td>3.000000</td>\n",
              "      <td>Probably New Customer</td>\n",
              "      <td>66</td>\n",
              "      <td>High Net Worth</td>\n",
              "      <td>Male</td>\n",
              "      <td>Financial Services</td>\n",
              "      <td>Yes</td>\n",
              "      <td>Victoria</td>\n",
              "      <td>38</td>\n",
              "      <td>6</td>\n",
              "    </tr>\n",
              "  </tbody>\n",
              "</table>\n",
              "</div>"
            ],
            "text/plain": [
              "   customer_id  ...  property_valuation\n",
              "0            1  ...                  10\n",
              "1            2  ...                  10\n",
              "2            9  ...                  12\n",
              "3           12  ...                   4\n",
              "4           13  ...                   6\n",
              "\n",
              "[5 rows x 17 columns]"
            ]
          },
          "metadata": {
            "tags": []
          },
          "execution_count": 125
        }
      ]
    },
    {
      "cell_type": "code",
      "metadata": {
        "id": "EfFnBjhfW_JP"
      },
      "source": [
        "Final_Data.to_excel(\"RMF_Score.xlsx\", \n",
        "                    sheet_name ='RMF_Score')"
      ],
      "execution_count": null,
      "outputs": []
    },
    {
      "cell_type": "code",
      "metadata": {
        "colab": {
          "base_uri": "https://localhost:8080/"
        },
        "id": "BkieVxEQg2DS",
        "outputId": "da10d3f3-6dfa-4fe3-d8d9-1bd632a1c32d"
      },
      "source": [
        "type(Final_Data)"
      ],
      "execution_count": null,
      "outputs": [
        {
          "output_type": "execute_result",
          "data": {
            "text/plain": [
              "pandas.core.frame.DataFrame"
            ]
          },
          "metadata": {
            "tags": []
          },
          "execution_count": 128
        }
      ]
    }
  ]
}